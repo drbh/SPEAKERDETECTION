{
 "cells": [
  {
   "cell_type": "code",
   "execution_count": null,
   "metadata": {
    "collapsed": false
   },
   "outputs": [],
   "source": [
    "!pwd"
   ]
  },
  {
   "cell_type": "code",
   "execution_count": null,
   "metadata": {
    "collapsed": true
   },
   "outputs": [],
   "source": [
    "!ls -lah"
   ]
  },
  {
   "cell_type": "code",
   "execution_count": 1,
   "metadata": {
    "collapsed": false
   },
   "outputs": [
    {
     "name": "stderr",
     "output_type": "stream",
     "text": [
      "No module named ap\n",
      "Warning: failed to import Bob, will use a slower version of MFCC instead.\n",
      "Warning: failed to import fast-gmm, use gmm from scikit-learn instead\n"
     ]
    }
   ],
   "source": [
    "from collections import defaultdict\n",
    "from scipy.io import wavfile\n",
    "import numpy as np\n",
    "import cPickle as pickle\n",
    "import traceback as tb\n",
    "import itertools\n",
    "import glob\n",
    "import time\n",
    "import os\n",
    "import sys\n",
    "\n",
    "# add to run in ipython\n",
    "sys.path.append('./gui/')\n",
    "\n",
    "from interface import ModelInterface\n",
    "from utils import read_wav\n",
    "from filters.silence import remove_silence\n",
    "from feature import mix_feature"
   ]
  },
  {
   "cell_type": "code",
   "execution_count": 35,
   "metadata": {
    "collapsed": false
   },
   "outputs": [],
   "source": [
    "execfile(\"./audios.py\")"
   ]
  },
  {
   "cell_type": "code",
   "execution_count": 86,
   "metadata": {
    "collapsed": false
   },
   "outputs": [],
   "source": [
    "def record_samples(name, n = 20):\n",
    "    for i in range(1,n):\n",
    "        dirc = \"/Users/drbh/speaker_detection/People/\" + name + \"/\"\n",
    "        fname = time.strftime(\"%Y%m%d-%H%M%S\") \n",
    "        print(i)\n",
    "        record_audio( dirc + fname + \".wav\")\n",
    "    print(\"done\")\n",
    "    \n",
    "def see_model(mods):\n",
    "    for count, (key, value) in enumerate(mods.features.iteritems(), 1):\n",
    "        print count, key, len(value)\n",
    "        \n",
    "def add_user_to_model(model,name):\n",
    "    m = model\n",
    "    fname = \"/Users/drbh/speaker_detection/People/\" + name + \"/\"\n",
    "    input_dirs = fname\n",
    "    input_dirs = [os.path.expanduser(k) for k in input_dirs.strip().split()]\n",
    "    dirs = itertools.chain(*(glob.glob(d) for d in input_dirs))\n",
    "    dirs = [d for d in dirs if os.path.isdir(d)]\n",
    "    files = []\n",
    "    print(dirs)\n",
    "    if len(dirs) == 0:\n",
    "        print \"No valid directory found!\"\n",
    "        sys.exit(1)\n",
    "    for d in dirs:\n",
    "        label = os.path.basename(d.rstrip('/'))\n",
    "\n",
    "        wavs = glob.glob(d + '/*.wav')\n",
    "        if len(wavs) == 0:\n",
    "            print \"No wav file found in {0}\".format(d)\n",
    "            continue\n",
    "        print \"Label {0} has files {1}\".format(label, ','.join(wavs))\n",
    "        for wav in wavs:\n",
    "            fs, signal = read_wav(wav)\n",
    "            fs, signal = check_vad(fs, signal)\n",
    "            if len(signal) > 0:\n",
    "                m.enroll(label, fs, signal)\n",
    "    m.train()\n",
    "    \n",
    "def record_samples(name, n = 20):\n",
    "    for i in range(1,n):\n",
    "        dirc = \"/Users/drbh/speaker_detection/People/\" + name + \"/\"\n",
    "        fname = time.strftime(\"%Y%m%d-%H%M%S\") \n",
    "        print(i)\n",
    "        record_audio( dirc + fname + \".wav\")\n",
    "    print(\"done\")\n",
    "\n",
    "def test_model(mods,path = \"/Users/drbh/speaker_detection/tmp.wav\"):\n",
    "    fs, signal = read_wav(path)\n",
    "    feat = mix_feature((fs, signal))\n",
    "    x = feat\n",
    "    scores = [mods.gmmset.gmm_score(gmm, x) / len(x) for gmm in mods.gmmset.gmms]\n",
    "    import operator\n",
    "    p = sorted(enumerate(scores), key=operator.itemgetter(1), reverse=True)\n",
    "    p = [(str(mods.gmmset.y[i]), y, p[0][1] - y) for i, y in p]\n",
    "    result = [(mods.gmmset.y[index], value) for (index, value) in enumerate(scores)]\n",
    "    p = max(result, key=operator.itemgetter(1))\n",
    "    return result\n",
    "    \n",
    "def find_user():\n",
    "    #print(\" + Recording\")\n",
    "    record_audio(\"./tmp.wav\")\n",
    "    #print(\" + Predicting\")\n",
    "    input_model = \"model.out\"\n",
    "    input_files = \"./tmp.wav\"\n",
    "    m = ModelInterface.load(input_model)\n",
    "#     m = model\n",
    "    for f in glob.glob(os.path.expanduser(input_files)):\n",
    "        fs, signal = read_wav(f)\n",
    "        label = m.predict(fs, signal)\n",
    "        if abs(label[0][1] - label[1][1]) > .0000002:\n",
    "            speakers_detected = [x for x in label if x[1] >= -.1]\n",
    "            if len(speakers_detected) > 0:\n",
    "                print max(speakers_detected, key=operator.itemgetter(1))\n",
    "            else:\n",
    "                print \"___                         not similar enough to know speaker\"\n",
    "        else:\n",
    "            print \"...                                    predictions too similar\"\n",
    "\n",
    "    "
   ]
  },
  {
   "cell_type": "code",
   "execution_count": 4,
   "metadata": {
    "collapsed": true
   },
   "outputs": [],
   "source": [
    "mods = ModelInterface()"
   ]
  },
  {
   "cell_type": "code",
   "execution_count": 36,
   "metadata": {
    "collapsed": false
   },
   "outputs": [
    {
     "name": "stdout",
     "output_type": "stream",
     "text": [
      "max_ltsd = 33.9152960809\n",
      "lambda0 = 37.306825689\n",
      "lambda1 = 74.6136513781\n"
     ]
    }
   ],
   "source": [
    "def set_baseline_noise(mods):\n",
    "    record_audio(\"base_silence.wav\")\n",
    "    fs, signal = read_wav(\"base_silence.wav\")\n",
    "    return mods.init_noise(fs, signal)\n",
    "\n",
    "set_baseline_noise(mods)"
   ]
  },
  {
   "cell_type": "code",
   "execution_count": 37,
   "metadata": {
    "collapsed": false
   },
   "outputs": [
    {
     "name": "stdout",
     "output_type": "stream",
     "text": [
      "1 Kathy 1855\n",
      "2 Joe 1951\n",
      "3 David 2669\n"
     ]
    }
   ],
   "source": [
    "# mods = mods.load(\"./model.out\")\n",
    "see_model(mods)"
   ]
  },
  {
   "cell_type": "code",
   "execution_count": null,
   "metadata": {
    "collapsed": true
   },
   "outputs": [],
   "source": [
    "# record_samples(\"David\")"
   ]
  },
  {
   "cell_type": "code",
   "execution_count": 8,
   "metadata": {
    "collapsed": false
   },
   "outputs": [],
   "source": [
    "def check_vad(fs,signal):\n",
    "    new_signal = mods.filter(*(fs, signal))\n",
    "    print \"After removed: {0} -> {1}\".format(len((fs, signal)[1]), len(new_signal))\n",
    "    print \"Enroll: {:.4f} seconds\".format(float(len(new_signal)) / fs)\n",
    "    if len(new_signal) == 0:\n",
    "        print \"Error! Input is silent! Please enroll again\"\n",
    "    return (fs,new_signal)"
   ]
  },
  {
   "cell_type": "code",
   "execution_count": 11,
   "metadata": {
    "collapsed": true
   },
   "outputs": [
    {
     "name": "stdout",
     "output_type": "stream",
     "text": [
      "['/Users/drbh/speaker_detection/People/Kathy/']\n",
      "Label Kathy has files /Users/drbh/speaker_detection/People/Kathy/20161228-201954.wav,/Users/drbh/speaker_detection/People/Kathy/20161228-201958.wav,/Users/drbh/speaker_detection/People/Kathy/20161228-202001.wav,/Users/drbh/speaker_detection/People/Kathy/20161228-202004.wav,/Users/drbh/speaker_detection/People/Kathy/20161228-202007.wav,/Users/drbh/speaker_detection/People/Kathy/20161228-202010.wav,/Users/drbh/speaker_detection/People/Kathy/20161228-202013.wav,/Users/drbh/speaker_detection/People/Kathy/20161228-202016.wav,/Users/drbh/speaker_detection/People/Kathy/20161228-202019.wav,/Users/drbh/speaker_detection/People/Kathy/20161228-202023.wav,/Users/drbh/speaker_detection/People/Kathy/20161228-202026.wav,/Users/drbh/speaker_detection/People/Kathy/20161228-202029.wav,/Users/drbh/speaker_detection/People/Kathy/20161228-202032.wav,/Users/drbh/speaker_detection/People/Kathy/20161228-202035.wav,/Users/drbh/speaker_detection/People/Kathy/20161228-202038.wav\n",
      "[(5120, 12288), (23552, 124928)] 130048\n",
      "After removed: 131400 -> 108544\n",
      "Enroll: 2.4613 seconds\n",
      "[(7168, 92160), (93184, 115712)] 130048\n",
      "After removed: 131400 -> 107520\n",
      "Enroll: 2.4381 seconds\n",
      "[(5120, 101376), (122880, 124928)] 130048\n",
      "After removed: 131400 -> 98304\n",
      "Enroll: 2.2291 seconds\n",
      "[(5120, 112640)] 130048\n",
      "After removed: 131400 -> 107520\n",
      "Enroll: 2.4381 seconds\n",
      "[(5120, 14336), (41984, 55296), (56320, 71680), (76800, 124928)] 130048\n",
      "After removed: 131400 -> 86016\n",
      "Enroll: 1.9505 seconds\n",
      "[(5120, 18432), (78848, 113664), (115712, 124928)] 130048\n",
      "After removed: 131400 -> 57344\n",
      "Enroll: 1.3003 seconds\n",
      "[(6144, 119808), (120832, 124928)] 130048\n",
      "After removed: 131400 -> 117760\n",
      "Enroll: 2.6703 seconds\n",
      "[(29696, 80896), (100352, 124928)] 130048\n",
      "After removed: 131400 -> 75776\n",
      "Enroll: 1.7183 seconds\n",
      "[(5120, 63488), (84992, 124928)] 130048\n",
      "After removed: 131400 -> 98304\n",
      "Enroll: 2.2291 seconds\n",
      "[(5120, 97280), (107520, 124928)] 130048\n",
      "After removed: 131400 -> 109568\n",
      "Enroll: 2.4845 seconds\n",
      "[(5120, 74752), (95232, 124928)] 130048\n",
      "After removed: 131400 -> 99328\n",
      "Enroll: 2.2523 seconds\n",
      "[(5120, 51200), (98304, 124928)] 130048\n",
      "After removed: 131400 -> 72704\n",
      "Enroll: 1.6486 seconds\n",
      "[(5120, 37888), (38912, 54272), (78848, 116736), (120832, 124928)] 130048\n",
      "After removed: 131400 -> 90112\n",
      "Enroll: 2.0434 seconds\n",
      "[(5120, 44032), (70656, 124928)] 130048\n",
      "After removed: 131400 -> 93184\n",
      "Enroll: 2.1130 seconds\n",
      "[(5120, 6144)] 130048\n",
      "After removed: 131400 -> 0\n",
      "Enroll: 0.0000 seconds\n",
      "Error! Input is silent! Please enroll again\n",
      "Start training...\n",
      "2.19370794296  seconds\n"
     ]
    }
   ],
   "source": [
    "add_user_to_model(mods,\"Kathy\")"
   ]
  },
  {
   "cell_type": "code",
   "execution_count": 12,
   "metadata": {
    "collapsed": false
   },
   "outputs": [
    {
     "name": "stdout",
     "output_type": "stream",
     "text": [
      "1 Kathy 1855\n",
      "2 Joe 1951\n",
      "3 David 2669\n"
     ]
    }
   ],
   "source": [
    "see_model(mods)"
   ]
  },
  {
   "cell_type": "code",
   "execution_count": 17,
   "metadata": {
    "collapsed": true
   },
   "outputs": [
    {
     "name": "stdout",
     "output_type": "stream",
     "text": [
      "___                         not similar enough to know speaker\n",
      "___                         not similar enough to know speaker\n",
      "___                         not similar enough to know speaker\n",
      "('David', -0.080613686505271398)\n",
      "___                         not similar enough to know speaker\n",
      "___                         not similar enough to know speaker\n",
      "___                         not similar enough to know speaker\n",
      "___                         not similar enough to know speaker\n"
     ]
    },
    {
     "ename": "KeyboardInterrupt",
     "evalue": "",
     "output_type": "error",
     "traceback": [
      "\u001b[0;31m---------------------------------------------------------------------------\u001b[0m",
      "\u001b[0;31mKeyboardInterrupt\u001b[0m                         Traceback (most recent call last)",
      "\u001b[0;32m<ipython-input-17-cbfe547fdfaf>\u001b[0m in \u001b[0;36m<module>\u001b[0;34m()\u001b[0m\n\u001b[1;32m      2\u001b[0m \u001b[0mexecfile\u001b[0m\u001b[0;34m(\u001b[0m\u001b[0;34m\"./audios.py\"\u001b[0m\u001b[0;34m)\u001b[0m\u001b[0;34m\u001b[0m\u001b[0m\n\u001b[1;32m      3\u001b[0m \u001b[0;32mfor\u001b[0m \u001b[0mi\u001b[0m \u001b[0;32min\u001b[0m \u001b[0mrange\u001b[0m\u001b[0;34m(\u001b[0m\u001b[0;36m1\u001b[0m\u001b[0;34m,\u001b[0m\u001b[0;36m60\u001b[0m\u001b[0;34m)\u001b[0m\u001b[0;34m:\u001b[0m\u001b[0;34m\u001b[0m\u001b[0m\n\u001b[0;32m----> 4\u001b[0;31m     \u001b[0mfind_user\u001b[0m\u001b[0;34m(\u001b[0m\u001b[0;34m)\u001b[0m\u001b[0;34m\u001b[0m\u001b[0m\n\u001b[0m",
      "\u001b[0;32m<ipython-input-3-f5beda8d05e2>\u001b[0m in \u001b[0;36mfind_user\u001b[0;34m()\u001b[0m\n\u001b[1;32m     60\u001b[0m \u001b[0;32mdef\u001b[0m \u001b[0mfind_user\u001b[0m\u001b[0;34m(\u001b[0m\u001b[0;34m)\u001b[0m\u001b[0;34m:\u001b[0m\u001b[0;34m\u001b[0m\u001b[0m\n\u001b[1;32m     61\u001b[0m     \u001b[0;31m#print(\" + Recording\")\u001b[0m\u001b[0;34m\u001b[0m\u001b[0;34m\u001b[0m\u001b[0m\n\u001b[0;32m---> 62\u001b[0;31m     \u001b[0mrecord_audio\u001b[0m\u001b[0;34m(\u001b[0m\u001b[0;34m\"./tmp.wav\"\u001b[0m\u001b[0;34m)\u001b[0m\u001b[0;34m\u001b[0m\u001b[0m\n\u001b[0m\u001b[1;32m     63\u001b[0m     \u001b[0;31m#print(\" + Predicting\")\u001b[0m\u001b[0;34m\u001b[0m\u001b[0;34m\u001b[0m\u001b[0m\n\u001b[1;32m     64\u001b[0m     \u001b[0minput_model\u001b[0m \u001b[0;34m=\u001b[0m \u001b[0;34m\"model.out\"\u001b[0m\u001b[0;34m\u001b[0m\u001b[0m\n",
      "\u001b[0;32m/Users/drbh/speaker_detection/audios.py\u001b[0m in \u001b[0;36mrecord_audio\u001b[0;34m(WAVE_OUTPUT_FILENAME)\u001b[0m\n\u001b[1;32m     33\u001b[0m \u001b[0;34m\u001b[0m\u001b[0m\n\u001b[1;32m     34\u001b[0m         \u001b[0;32mfor\u001b[0m \u001b[0mi\u001b[0m \u001b[0;32min\u001b[0m \u001b[0mrange\u001b[0m\u001b[0;34m(\u001b[0m\u001b[0;36m0\u001b[0m\u001b[0;34m,\u001b[0m \u001b[0mint\u001b[0m\u001b[0;34m(\u001b[0m\u001b[0mRATE\u001b[0m \u001b[0;34m/\u001b[0m \u001b[0mCHUNK\u001b[0m \u001b[0;34m*\u001b[0m \u001b[0mRECORD_SECONDS\u001b[0m\u001b[0;34m)\u001b[0m\u001b[0;34m)\u001b[0m\u001b[0;34m:\u001b[0m\u001b[0;34m\u001b[0m\u001b[0m\n\u001b[0;32m---> 35\u001b[0;31m                 \u001b[0mdata\u001b[0m \u001b[0;34m=\u001b[0m \u001b[0mstream\u001b[0m\u001b[0;34m.\u001b[0m\u001b[0mread\u001b[0m\u001b[0;34m(\u001b[0m\u001b[0mCHUNK\u001b[0m\u001b[0;34m)\u001b[0m\u001b[0;34m\u001b[0m\u001b[0m\n\u001b[0m\u001b[1;32m     36\u001b[0m                 \u001b[0mframes\u001b[0m\u001b[0;34m.\u001b[0m\u001b[0mappend\u001b[0m\u001b[0;34m(\u001b[0m\u001b[0mdata\u001b[0m\u001b[0;34m)\u001b[0m\u001b[0;34m\u001b[0m\u001b[0m\n\u001b[1;32m     37\u001b[0m \u001b[0;34m\u001b[0m\u001b[0m\n",
      "\u001b[0;32m/Users/drbh/speak/lib/python2.7/site-packages/pyaudio.pyc\u001b[0m in \u001b[0;36mread\u001b[0;34m(self, num_frames, exception_on_overflow)\u001b[0m\n\u001b[1;32m    606\u001b[0m                           paCanNotReadFromAnOutputOnlyStream)\n\u001b[1;32m    607\u001b[0m \u001b[0;34m\u001b[0m\u001b[0m\n\u001b[0;32m--> 608\u001b[0;31m         \u001b[0;32mreturn\u001b[0m \u001b[0mpa\u001b[0m\u001b[0;34m.\u001b[0m\u001b[0mread_stream\u001b[0m\u001b[0;34m(\u001b[0m\u001b[0mself\u001b[0m\u001b[0;34m.\u001b[0m\u001b[0m_stream\u001b[0m\u001b[0;34m,\u001b[0m \u001b[0mnum_frames\u001b[0m\u001b[0;34m,\u001b[0m \u001b[0mexception_on_overflow\u001b[0m\u001b[0;34m)\u001b[0m\u001b[0;34m\u001b[0m\u001b[0m\n\u001b[0m\u001b[1;32m    609\u001b[0m \u001b[0;34m\u001b[0m\u001b[0m\n\u001b[1;32m    610\u001b[0m     \u001b[0;32mdef\u001b[0m \u001b[0mget_read_available\u001b[0m\u001b[0;34m(\u001b[0m\u001b[0mself\u001b[0m\u001b[0;34m)\u001b[0m\u001b[0;34m:\u001b[0m\u001b[0;34m\u001b[0m\u001b[0m\n",
      "\u001b[0;31mKeyboardInterrupt\u001b[0m: "
     ]
    }
   ],
   "source": [
    "import operator\n",
    "execfile(\"./audios.py\")\n",
    "for i in range(1,60):\n",
    "    find_user()"
   ]
  },
  {
   "cell_type": "code",
   "execution_count": 18,
   "metadata": {
    "collapsed": false
   },
   "outputs": [
    {
     "data": {
      "text/plain": [
       "[('Kathy', -0.20554578130567816),\n",
       " ('Joe', -0.15968625310309717),\n",
       " ('David', -0.11703955291437099)]"
      ]
     },
     "execution_count": 18,
     "metadata": {},
     "output_type": "execute_result"
    }
   ],
   "source": [
    "test_model(mods)"
   ]
  },
  {
   "cell_type": "code",
   "execution_count": 19,
   "metadata": {
    "collapsed": true
   },
   "outputs": [],
   "source": [
    "#save model after interaction\n",
    "mods.dump(\"./model_cleaned.out\")"
   ]
  },
  {
   "cell_type": "code",
   "execution_count": 20,
   "metadata": {
    "collapsed": true
   },
   "outputs": [],
   "source": [
    "import requests\n",
    "import pydub\n",
    "\n",
    "def open_radio():\n",
    "    stream_url = 'https://fm939.wnyc.org/wnycfm'\n",
    "    r = requests.get(stream_url, stream=True)\n",
    "    return r\n",
    "\n",
    "def stream_sample(r):\n",
    "    a = 0\n",
    "    with open('stream.mp3', 'wb') as f:\n",
    "        for block in r.iter_content(1024):\n",
    "            f.write(block)\n",
    "            a = a + 1\n",
    "            if ( a > 100):\n",
    "                break\n",
    "        r.close()     \n",
    "    sound = pydub.AudioSegment.from_mp3(\"stream.mp3\")\n",
    "    sound.export(\"stream.wav\", format=\"wav\")"
   ]
  },
  {
   "cell_type": "code",
   "execution_count": 25,
   "metadata": {
    "collapsed": true
   },
   "outputs": [],
   "source": [
    "radio_stream = open_radio()"
   ]
  },
  {
   "cell_type": "code",
   "execution_count": 24,
   "metadata": {
    "collapsed": true
   },
   "outputs": [
    {
     "ename": "AttributeError",
     "evalue": "'NoneType' object has no attribute 'read'",
     "output_type": "error",
     "traceback": [
      "\u001b[0;31m---------------------------------------------------------------------------\u001b[0m",
      "\u001b[0;31mAttributeError\u001b[0m                            Traceback (most recent call last)",
      "\u001b[0;32m<ipython-input-24-c4fd8983395a>\u001b[0m in \u001b[0;36m<module>\u001b[0;34m()\u001b[0m\n\u001b[0;32m----> 1\u001b[0;31m \u001b[0mstream_sample\u001b[0m\u001b[0;34m(\u001b[0m\u001b[0mradio_stream\u001b[0m\u001b[0;34m)\u001b[0m\u001b[0;34m\u001b[0m\u001b[0m\n\u001b[0m",
      "\u001b[0;32m<ipython-input-20-02f7911c208d>\u001b[0m in \u001b[0;36mstream_sample\u001b[0;34m(r)\u001b[0m\n\u001b[1;32m     10\u001b[0m     \u001b[0ma\u001b[0m \u001b[0;34m=\u001b[0m \u001b[0;36m0\u001b[0m\u001b[0;34m\u001b[0m\u001b[0m\n\u001b[1;32m     11\u001b[0m     \u001b[0;32mwith\u001b[0m \u001b[0mopen\u001b[0m\u001b[0;34m(\u001b[0m\u001b[0;34m'stream.mp3'\u001b[0m\u001b[0;34m,\u001b[0m \u001b[0;34m'wb'\u001b[0m\u001b[0;34m)\u001b[0m \u001b[0;32mas\u001b[0m \u001b[0mf\u001b[0m\u001b[0;34m:\u001b[0m\u001b[0;34m\u001b[0m\u001b[0m\n\u001b[0;32m---> 12\u001b[0;31m         \u001b[0;32mfor\u001b[0m \u001b[0mblock\u001b[0m \u001b[0;32min\u001b[0m \u001b[0mr\u001b[0m\u001b[0;34m.\u001b[0m\u001b[0miter_content\u001b[0m\u001b[0;34m(\u001b[0m\u001b[0;36m1024\u001b[0m\u001b[0;34m)\u001b[0m\u001b[0;34m:\u001b[0m\u001b[0;34m\u001b[0m\u001b[0m\n\u001b[0m\u001b[1;32m     13\u001b[0m             \u001b[0mf\u001b[0m\u001b[0;34m.\u001b[0m\u001b[0mwrite\u001b[0m\u001b[0;34m(\u001b[0m\u001b[0mblock\u001b[0m\u001b[0;34m)\u001b[0m\u001b[0;34m\u001b[0m\u001b[0m\n\u001b[1;32m     14\u001b[0m             \u001b[0ma\u001b[0m \u001b[0;34m=\u001b[0m \u001b[0ma\u001b[0m \u001b[0;34m+\u001b[0m \u001b[0;36m1\u001b[0m\u001b[0;34m\u001b[0m\u001b[0m\n",
      "\u001b[0;32m/Users/drbh/speak/lib/python2.7/site-packages/requests/models.pyc\u001b[0m in \u001b[0;36mgenerate\u001b[0;34m()\u001b[0m\n\u001b[1;32m    701\u001b[0m             \u001b[0;32mif\u001b[0m \u001b[0mhasattr\u001b[0m\u001b[0;34m(\u001b[0m\u001b[0mself\u001b[0m\u001b[0;34m.\u001b[0m\u001b[0mraw\u001b[0m\u001b[0;34m,\u001b[0m \u001b[0;34m'stream'\u001b[0m\u001b[0;34m)\u001b[0m\u001b[0;34m:\u001b[0m\u001b[0;34m\u001b[0m\u001b[0m\n\u001b[1;32m    702\u001b[0m                 \u001b[0;32mtry\u001b[0m\u001b[0;34m:\u001b[0m\u001b[0;34m\u001b[0m\u001b[0m\n\u001b[0;32m--> 703\u001b[0;31m                     \u001b[0;32mfor\u001b[0m \u001b[0mchunk\u001b[0m \u001b[0;32min\u001b[0m \u001b[0mself\u001b[0m\u001b[0;34m.\u001b[0m\u001b[0mraw\u001b[0m\u001b[0;34m.\u001b[0m\u001b[0mstream\u001b[0m\u001b[0;34m(\u001b[0m\u001b[0mchunk_size\u001b[0m\u001b[0;34m,\u001b[0m \u001b[0mdecode_content\u001b[0m\u001b[0;34m=\u001b[0m\u001b[0mTrue\u001b[0m\u001b[0;34m)\u001b[0m\u001b[0;34m:\u001b[0m\u001b[0;34m\u001b[0m\u001b[0m\n\u001b[0m\u001b[1;32m    704\u001b[0m                         \u001b[0;32myield\u001b[0m \u001b[0mchunk\u001b[0m\u001b[0;34m\u001b[0m\u001b[0m\n\u001b[1;32m    705\u001b[0m                 \u001b[0;32mexcept\u001b[0m \u001b[0mProtocolError\u001b[0m \u001b[0;32mas\u001b[0m \u001b[0me\u001b[0m\u001b[0;34m:\u001b[0m\u001b[0;34m\u001b[0m\u001b[0m\n",
      "\u001b[0;32m/Users/drbh/speak/lib/python2.7/site-packages/requests/packages/urllib3/response.pyc\u001b[0m in \u001b[0;36mstream\u001b[0;34m(self, amt, decode_content)\u001b[0m\n\u001b[1;32m    426\u001b[0m         \"\"\"\n\u001b[1;32m    427\u001b[0m         \u001b[0;32mif\u001b[0m \u001b[0mself\u001b[0m\u001b[0;34m.\u001b[0m\u001b[0mchunked\u001b[0m \u001b[0;32mand\u001b[0m \u001b[0mself\u001b[0m\u001b[0;34m.\u001b[0m\u001b[0msupports_chunked_reads\u001b[0m\u001b[0;34m(\u001b[0m\u001b[0;34m)\u001b[0m\u001b[0;34m:\u001b[0m\u001b[0;34m\u001b[0m\u001b[0m\n\u001b[0;32m--> 428\u001b[0;31m             \u001b[0;32mfor\u001b[0m \u001b[0mline\u001b[0m \u001b[0;32min\u001b[0m \u001b[0mself\u001b[0m\u001b[0;34m.\u001b[0m\u001b[0mread_chunked\u001b[0m\u001b[0;34m(\u001b[0m\u001b[0mamt\u001b[0m\u001b[0;34m,\u001b[0m \u001b[0mdecode_content\u001b[0m\u001b[0;34m=\u001b[0m\u001b[0mdecode_content\u001b[0m\u001b[0;34m)\u001b[0m\u001b[0;34m:\u001b[0m\u001b[0;34m\u001b[0m\u001b[0m\n\u001b[0m\u001b[1;32m    429\u001b[0m                 \u001b[0;32myield\u001b[0m \u001b[0mline\u001b[0m\u001b[0;34m\u001b[0m\u001b[0m\n\u001b[1;32m    430\u001b[0m         \u001b[0;32melse\u001b[0m\u001b[0;34m:\u001b[0m\u001b[0;34m\u001b[0m\u001b[0m\n",
      "\u001b[0;32m/Users/drbh/speak/lib/python2.7/site-packages/requests/packages/urllib3/response.pyc\u001b[0m in \u001b[0;36mread_chunked\u001b[0;34m(self, amt, decode_content)\u001b[0m\n\u001b[1;32m    591\u001b[0m                 \u001b[0;32mif\u001b[0m \u001b[0mself\u001b[0m\u001b[0;34m.\u001b[0m\u001b[0mchunk_left\u001b[0m \u001b[0;34m==\u001b[0m \u001b[0;36m0\u001b[0m\u001b[0;34m:\u001b[0m\u001b[0;34m\u001b[0m\u001b[0m\n\u001b[1;32m    592\u001b[0m                     \u001b[0;32mbreak\u001b[0m\u001b[0;34m\u001b[0m\u001b[0m\n\u001b[0;32m--> 593\u001b[0;31m                 \u001b[0mchunk\u001b[0m \u001b[0;34m=\u001b[0m \u001b[0mself\u001b[0m\u001b[0;34m.\u001b[0m\u001b[0m_handle_chunk\u001b[0m\u001b[0;34m(\u001b[0m\u001b[0mamt\u001b[0m\u001b[0;34m)\u001b[0m\u001b[0;34m\u001b[0m\u001b[0m\n\u001b[0m\u001b[1;32m    594\u001b[0m                 decoded = self._decode(chunk, decode_content=decode_content,\n\u001b[1;32m    595\u001b[0m                                        flush_decoder=False)\n",
      "\u001b[0;32m/Users/drbh/speak/lib/python2.7/site-packages/requests/packages/urllib3/response.pyc\u001b[0m in \u001b[0;36m_handle_chunk\u001b[0;34m(self, amt)\u001b[0m\n\u001b[1;32m    551\u001b[0m             \u001b[0mreturned_chunk\u001b[0m \u001b[0;34m=\u001b[0m \u001b[0mvalue\u001b[0m\u001b[0;34m\u001b[0m\u001b[0m\n\u001b[1;32m    552\u001b[0m         \u001b[0;32melif\u001b[0m \u001b[0mamt\u001b[0m \u001b[0;34m==\u001b[0m \u001b[0mself\u001b[0m\u001b[0;34m.\u001b[0m\u001b[0mchunk_left\u001b[0m\u001b[0;34m:\u001b[0m\u001b[0;34m\u001b[0m\u001b[0m\n\u001b[0;32m--> 553\u001b[0;31m             \u001b[0mvalue\u001b[0m \u001b[0;34m=\u001b[0m \u001b[0mself\u001b[0m\u001b[0;34m.\u001b[0m\u001b[0m_fp\u001b[0m\u001b[0;34m.\u001b[0m\u001b[0m_safe_read\u001b[0m\u001b[0;34m(\u001b[0m\u001b[0mamt\u001b[0m\u001b[0;34m)\u001b[0m\u001b[0;34m\u001b[0m\u001b[0m\n\u001b[0m\u001b[1;32m    554\u001b[0m             \u001b[0mself\u001b[0m\u001b[0;34m.\u001b[0m\u001b[0m_fp\u001b[0m\u001b[0;34m.\u001b[0m\u001b[0m_safe_read\u001b[0m\u001b[0;34m(\u001b[0m\u001b[0;36m2\u001b[0m\u001b[0;34m)\u001b[0m  \u001b[0;31m# Toss the CRLF at the end of the chunk.\u001b[0m\u001b[0;34m\u001b[0m\u001b[0m\n\u001b[1;32m    555\u001b[0m             \u001b[0mself\u001b[0m\u001b[0;34m.\u001b[0m\u001b[0mchunk_left\u001b[0m \u001b[0;34m=\u001b[0m \u001b[0mNone\u001b[0m\u001b[0;34m\u001b[0m\u001b[0m\n",
      "\u001b[0;32m/System/Library/Frameworks/Python.framework/Versions/2.7/lib/python2.7/httplib.pyc\u001b[0m in \u001b[0;36m_safe_read\u001b[0;34m(self, amt)\u001b[0m\n\u001b[1;32m    701\u001b[0m         \u001b[0ms\u001b[0m \u001b[0;34m=\u001b[0m \u001b[0;34m[\u001b[0m\u001b[0;34m]\u001b[0m\u001b[0;34m\u001b[0m\u001b[0m\n\u001b[1;32m    702\u001b[0m         \u001b[0;32mwhile\u001b[0m \u001b[0mamt\u001b[0m \u001b[0;34m>\u001b[0m \u001b[0;36m0\u001b[0m\u001b[0;34m:\u001b[0m\u001b[0;34m\u001b[0m\u001b[0m\n\u001b[0;32m--> 703\u001b[0;31m             \u001b[0mchunk\u001b[0m \u001b[0;34m=\u001b[0m \u001b[0mself\u001b[0m\u001b[0;34m.\u001b[0m\u001b[0mfp\u001b[0m\u001b[0;34m.\u001b[0m\u001b[0mread\u001b[0m\u001b[0;34m(\u001b[0m\u001b[0mmin\u001b[0m\u001b[0;34m(\u001b[0m\u001b[0mamt\u001b[0m\u001b[0;34m,\u001b[0m \u001b[0mMAXAMOUNT\u001b[0m\u001b[0;34m)\u001b[0m\u001b[0;34m)\u001b[0m\u001b[0;34m\u001b[0m\u001b[0m\n\u001b[0m\u001b[1;32m    704\u001b[0m             \u001b[0;32mif\u001b[0m \u001b[0;32mnot\u001b[0m \u001b[0mchunk\u001b[0m\u001b[0;34m:\u001b[0m\u001b[0;34m\u001b[0m\u001b[0m\n\u001b[1;32m    705\u001b[0m                 \u001b[0;32mraise\u001b[0m \u001b[0mIncompleteRead\u001b[0m\u001b[0;34m(\u001b[0m\u001b[0;34m''\u001b[0m\u001b[0;34m.\u001b[0m\u001b[0mjoin\u001b[0m\u001b[0;34m(\u001b[0m\u001b[0ms\u001b[0m\u001b[0;34m)\u001b[0m\u001b[0;34m,\u001b[0m \u001b[0mamt\u001b[0m\u001b[0;34m)\u001b[0m\u001b[0;34m\u001b[0m\u001b[0m\n",
      "\u001b[0;31mAttributeError\u001b[0m: 'NoneType' object has no attribute 'read'"
     ]
    }
   ],
   "source": [
    "stream_sample(radio_stream)"
   ]
  },
  {
   "cell_type": "code",
   "execution_count": 32,
   "metadata": {
    "collapsed": false
   },
   "outputs": [
    {
     "data": {
      "text/plain": [
       "[('Kathy', -0.22063075609044483),\n",
       " ('Joe', -0.32511116851104532),\n",
       " ('David', -0.20578142969093302)]"
      ]
     },
     "execution_count": 32,
     "metadata": {},
     "output_type": "execute_result"
    }
   ],
   "source": [
    "test_model(mods,path=\"/Users/drbh/speaker_detection/stream.wav\")"
   ]
  },
  {
   "cell_type": "code",
   "execution_count": 38,
   "metadata": {
    "collapsed": false
   },
   "outputs": [
    {
     "data": {
      "text/plain": [
       "[('Kathy', -0.22063075609044483),\n",
       " ('Joe', -0.32511116851104532),\n",
       " ('David', -0.20578142969093302)]"
      ]
     },
     "execution_count": 38,
     "metadata": {},
     "output_type": "execute_result"
    }
   ],
   "source": [
    "test_model(mods,path=\"/Users/drbh/speaker_detection/stream.wav\")"
   ]
  },
  {
   "cell_type": "code",
   "execution_count": 71,
   "metadata": {
    "collapsed": false
   },
   "outputs": [
    {
     "data": {
      "image/png": "[encoded data removed]",
      "text/plain": [
       "<matplotlib.figure.Figure at 0x11b2a9650>"
      ]
     },
     "metadata": {},
     "output_type": "display_data"
    }
   ],
   "source": [
    "spf = wave.open('/Users/drbh/speaker_detection/stream.wav','r')\n",
    "fs = spf.getframerate()\n",
    "signal = spf.readframes(-1)\n",
    "signal = np.fromstring(signal, 'Int16') * 3\n",
    "plot_wav(signal)"
   ]
  },
  {
   "cell_type": "code",
   "execution_count": 72,
   "metadata": {
    "collapsed": false
   },
   "outputs": [
    {
     "name": "stdout",
     "output_type": "stream",
     "text": [
      "[(5120, 48128), (51200, 92160), (93184, 146432), (147456, 150528), (151552, 169984), (172032, 248832), (249856, 282624), (285696, 318464), (321536, 340992), (388096, 392192), (437248, 478208), (479232, 497664), (498688, 516096), (521216, 537600)] 542720\n",
      "After removed: 543744 -> 417792\n",
      "Enroll: 13.0560 seconds\n"
     ]
    },
    {
     "data": {
      "text/plain": [
       "(32000, array([ -15,  -15,  -12, ..., 2232, 2109, 2031], dtype=int16))"
      ]
     },
     "execution_count": 72,
     "metadata": {},
     "output_type": "execute_result"
    }
   ],
   "source": [
    "check_vad(fs, signal)"
   ]
  },
  {
   "cell_type": "code",
   "execution_count": 79,
   "metadata": {
    "collapsed": false
   },
   "outputs": [],
   "source": [
    "xyz = ModelInterface()"
   ]
  },
  {
   "cell_type": "code",
   "execution_count": 82,
   "metadata": {
    "collapsed": false
   },
   "outputs": [
    {
     "name": "stdout",
     "output_type": "stream",
     "text": [
      "Start training...\n",
      "0.243736982346  seconds\n"
     ]
    }
   ],
   "source": [
    "xyz.enroll(\"Unknown\", fs, signal)\n",
    "xyz.train()"
   ]
  },
  {
   "cell_type": "code",
   "execution_count": 84,
   "metadata": {
    "collapsed": false
   },
   "outputs": [
    {
     "name": "stdout",
     "output_type": "stream",
     "text": [
      "1 Unknown 3183\n"
     ]
    }
   ],
   "source": [
    "see_model(xyz)"
   ]
  },
  {
   "cell_type": "code",
   "execution_count": 88,
   "metadata": {
    "collapsed": false
   },
   "outputs": [
    {
     "data": {
      "text/plain": [
       "[('Unknown', -0.5572814200302002)]"
      ]
     },
     "execution_count": 88,
     "metadata": {},
     "output_type": "execute_result"
    }
   ],
   "source": [
    "test_model(xyz,path=\"/Users/drbh/speaker_detection/stream.wav\")"
   ]
  },
  {
   "cell_type": "code",
   "execution_count": 63,
   "metadata": {
    "collapsed": false
   },
   "outputs": [
    {
     "name": "stdout",
     "output_type": "stream",
     "text": [
      "-0.185640669138\n",
      "15674\n",
      "-12064\n",
      "-100941\n"
     ]
    }
   ],
   "source": [
    "print signal.mean()\n",
    "print signal.max()\n",
    "print signal.min()\n",
    "print signal.sum()"
   ]
  },
  {
   "cell_type": "code",
   "execution_count": 58,
   "metadata": {
    "collapsed": false
   },
   "outputs": [
    {
     "name": "stdout",
     "output_type": "stream",
     "text": [
      "[(5120, 519168)] 524288\n",
      "After removed: 525600 -> 514048\n",
      "Enroll: 11.6564 seconds\n"
     ]
    },
    {
     "data": {
      "text/plain": [
       "(44100,\n",
       " array([-16478,     62, -16479, ...,   -672, -12532,   -672], dtype=int16))"
      ]
     },
     "execution_count": 58,
     "metadata": {},
     "output_type": "execute_result"
    }
   ],
   "source": [
    "spf = wave.open('/Users/drbh/speaker_detection/People/David/20161228-214054.wav','r')\n",
    "fs = spf.getframerate()\n",
    "signal = spf.readframes(-1)\n",
    "signal = np.fromstring(signal, 'Int16')\n",
    "check_vad(fs, signal)"
   ]
  },
  {
   "cell_type": "code",
   "execution_count": 59,
   "metadata": {
    "collapsed": false
   },
   "outputs": [
    {
     "name": "stdout",
     "output_type": "stream",
     "text": [
      "-103.23598554\n",
      "32767\n",
      "-32768\n",
      "-54260834\n"
     ]
    }
   ],
   "source": [
    "print signal.mean()\n",
    "print signal.max()\n",
    "print signal.min()\n",
    "print signal.sum()"
   ]
  },
  {
   "cell_type": "code",
   "execution_count": 30,
   "metadata": {
    "collapsed": false
   },
   "outputs": [],
   "source": [
    "%matplotlib inline\n",
    "import matplotlib.pyplot as plt\n",
    "import numpy as np\n",
    "import wave\n",
    "import sys\n",
    "\n",
    "def plot_wav(signal):\n",
    "    plt.title('Wave...')\n",
    "    plt.plot(signal)\n",
    "    \n",
    "def subst_wav(fs, signal, start=1000,seconds=5):\n",
    "    end = (seconds * fs ) + start\n",
    "    return signal[start:end]\n",
    "\n",
    "def sub_and_plot(fs,signal,start,seconds):\n",
    "    subset = subst_wav(fs,signal,start,seconds)\n",
    "    plot_wav(subset)"
   ]
  },
  {
   "cell_type": "code",
   "execution_count": null,
   "metadata": {
    "collapsed": false
   },
   "outputs": [],
   "source": [
    "spf = wave.open('/Users/drbh/speaker_detection/stream.wav','r')\n",
    "fs = spf.getframerate()\n",
    "signal = spf.readframes(-1)\n",
    "signal = np.fromstring(signal, 'Int16')\n",
    "# subst_wav(fs,signal,0,10)\n",
    "for i in range(100):\n",
    "    plt.gca().cla() \n",
    "    sub_and_plot(fs,signal,i*10000,10)\n",
    "    display.clear_output(wait=True)\n",
    "    display.display(plt.gcf())\n",
    "    time.sleep(.05)\n",
    "display.clear_output(wait=True)"
   ]
  },
  {
   "cell_type": "code",
   "execution_count": null,
   "metadata": {
    "collapsed": true
   },
   "outputs": [],
   "source": []
  },
  {
   "cell_type": "code",
   "execution_count": null,
   "metadata": {
    "collapsed": true
   },
   "outputs": [],
   "source": [
    "def sum(a, b):\n",
    "    return a + b\n",
    "\n",
    "values = (1, 2)\n",
    "\n",
    "s = sum(*values)"
   ]
  },
  {
   "cell_type": "code",
   "execution_count": null,
   "metadata": {
    "collapsed": false
   },
   "outputs": [],
   "source": [
    "read_wav(\"\")"
   ]
  },
  {
   "cell_type": "code",
   "execution_count": null,
   "metadata": {
    "collapsed": false
   },
   "outputs": [],
   "source": [
    "test_model(mods,path=\"/Users/drbh/speaker_detection/stream.wav\")"
   ]
  },
  {
   "cell_type": "code",
   "execution_count": 93,
   "metadata": {
    "collapsed": false
   },
   "outputs": [
    {
     "name": "stdout",
     "output_type": "stream",
     "text": [
      "total 39080\r\n",
      "drwxr-xr-x  22 drbh  staff   748B Dec 28 21:41 \u001b[34m.\u001b[m\u001b[m\r\n",
      "drwxr-xr-x   8 drbh  staff   272B Dec 28 21:39 \u001b[34m..\u001b[m\u001b[m\r\n",
      "-rw-r--r--@  1 drbh  staff   6.0K Dec 28 21:40 .DS_Store\r\n",
      "-rw-r--r--   1 drbh  staff   1.0M Dec 28 21:40 20161228-214054.wav\r\n",
      "-rw-r--r--   1 drbh  staff   1.0M Dec 28 21:41 20161228-214057.wav\r\n",
      "-rw-r--r--   1 drbh  staff   1.0M Dec 28 21:41 20161228-214100.wav\r\n",
      "-rw-r--r--   1 drbh  staff   1.0M Dec 28 21:41 20161228-214103.wav\r\n",
      "-rw-r--r--   1 drbh  staff   1.0M Dec 28 21:41 20161228-214106.wav\r\n",
      "-rw-r--r--   1 drbh  staff   1.0M Dec 28 21:41 20161228-214109.wav\r\n",
      "-rw-r--r--   1 drbh  staff   1.0M Dec 28 21:41 20161228-214113.wav\r\n",
      "-rw-r--r--   1 drbh  staff   1.0M Dec 28 21:41 20161228-214116.wav\r\n",
      "-rw-r--r--   1 drbh  staff   1.0M Dec 28 21:41 20161228-214119.wav\r\n",
      "-rw-r--r--   1 drbh  staff   1.0M Dec 28 21:41 20161228-214122.wav\r\n",
      "-rw-r--r--   1 drbh  staff   1.0M Dec 28 21:41 20161228-214125.wav\r\n",
      "-rw-r--r--   1 drbh  staff   1.0M Dec 28 21:41 20161228-214128.wav\r\n",
      "-rw-r--r--   1 drbh  staff   1.0M Dec 28 21:41 20161228-214131.wav\r\n",
      "-rw-r--r--   1 drbh  staff   1.0M Dec 28 21:41 20161228-214134.wav\r\n",
      "-rw-r--r--   1 drbh  staff   1.0M Dec 28 21:41 20161228-214137.wav\r\n",
      "-rw-r--r--   1 drbh  staff   1.0M Dec 28 21:41 20161228-214141.wav\r\n",
      "-rw-r--r--   1 drbh  staff   1.0M Dec 28 21:41 20161228-214144.wav\r\n",
      "-rw-r--r--   1 drbh  staff   1.0M Dec 28 21:41 20161228-214147.wav\r\n",
      "-rw-r--r--   1 drbh  staff   1.0M Dec 28 21:41 20161228-214150.wav\r\n"
     ]
    }
   ],
   "source": [
    "!ls -lah ./People/David"
   ]
  },
  {
   "cell_type": "code",
   "execution_count": 97,
   "metadata": {
    "collapsed": false
   },
   "outputs": [],
   "source": [
    "f1, s1 = read_wav(\"/Users/drbh/speaker_detection/People/David/20161228-214054.wav\")\n",
    "f2, s2 = read_wav(\"/Users/drbh/speaker_detection/People/David/20161228-214057.wav\")\n",
    "f3, s3 = read_wav(\"/Users/drbh/speaker_detection/People/David/20161228-214119.wav\")\n",
    "f4, s4 = read_wav(\"/Users/drbh/speaker_detection/stream.wav\")"
   ]
  },
  {
   "cell_type": "code",
   "execution_count": 107,
   "metadata": {
    "collapsed": false
   },
   "outputs": [],
   "source": [
    "import operator\n",
    "\n",
    "def test(fs,signal):\n",
    "    feat = mix_feature((fs, signal))\n",
    "    x = feat\n",
    "    scores = [mods.gmmset.gmm_score(gmm, x) / len(x) for gmm in mods.gmmset.gmms]\n",
    "    p = sorted(enumerate(scores), key=operator.itemgetter(1), reverse=True)\n",
    "    p = [(str(mods.gmmset.y[i]), y, p[0][1] - y) for i, y in p]\n",
    "    result = [(mods.gmmset.y[index], value) for (index, value) in enumerate(scores)]\n",
    "    \n",
    "    \n",
    "    return feat.min(),feat.mean(),feat.max()"
   ]
  },
  {
   "cell_type": "code",
   "execution_count": 108,
   "metadata": {
    "collapsed": false
   },
   "outputs": [
    {
     "data": {
      "text/plain": [
       "(-9.6867412794327077, 0.0096810496514142877, 9.336558257232447)"
      ]
     },
     "execution_count": 108,
     "metadata": {},
     "output_type": "execute_result"
    }
   ],
   "source": [
    "test(f1,s1)"
   ]
  },
  {
   "cell_type": "code",
   "execution_count": 102,
   "metadata": {
    "collapsed": false
   },
   "outputs": [
    {
     "data": {
      "text/plain": [
       "[('Kathy', -0.2248261803528914),\n",
       " ('Joe', -0.22933692174688172),\n",
       " ('David', -0.015177145731482666)]"
      ]
     },
     "execution_count": 102,
     "metadata": {},
     "output_type": "execute_result"
    }
   ],
   "source": [
    "test(f2, s2)"
   ]
  },
  {
   "cell_type": "code",
   "execution_count": 111,
   "metadata": {
    "collapsed": false
   },
   "outputs": [
    {
     "data": {
      "text/plain": [
       "{'boxes': [<matplotlib.lines.Line2D at 0x103db14d0>],\n",
       " 'caps': [<matplotlib.lines.Line2D at 0x10f0a56d0>,\n",
       "  <matplotlib.lines.Line2D at 0x10f0a6ed0>],\n",
       " 'fliers': [<matplotlib.lines.Line2D at 0x1167f72d0>],\n",
       " 'means': [],\n",
       " 'medians': [<matplotlib.lines.Line2D at 0x10f079d90>],\n",
       " 'whiskers': [<matplotlib.lines.Line2D at 0x10f076d50>,\n",
       "  <matplotlib.lines.Line2D at 0x10f076c50>]}"
      ]
     },
     "execution_count": 111,
     "metadata": {},
     "output_type": "execute_result"
    },
    {
     "data": {
      "image/png": "[encoded data removed]",
      "text/plain": [
       "<matplotlib.figure.Figure at 0x10d457690>"
      ]
     },
     "metadata": {},
     "output_type": "display_data"
    },
    {
     "data": {
      "image/png": "[encoded data removed]",
      "text/plain": [
       "<matplotlib.figure.Figure at 0x103d64d10>"
      ]
     },
     "metadata": {},
     "output_type": "display_data"
    }
   ],
   "source": [
    "plt.figure()\n",
    "plt.boxplot(s1, 0, 'rs', 0)\n",
    "plt.figure()\n",
    "plt.boxplot(s2, 0, 'rs', 0)"
   ]
  },
  {
   "cell_type": "code",
   "execution_count": 112,
   "metadata": {
    "collapsed": false
   },
   "outputs": [
    {
     "ename": "AttributeError",
     "evalue": "'numpy.ndarray' object has no attribute 'plot'",
     "output_type": "error",
     "traceback": [
      "\u001b[0;31m---------------------------------------------------------------------------\u001b[0m",
      "\u001b[0;31mAttributeError\u001b[0m                            Traceback (most recent call last)",
      "\u001b[0;32m<ipython-input-112-bbb4cb4428bd>\u001b[0m in \u001b[0;36m<module>\u001b[0;34m()\u001b[0m\n\u001b[0;32m----> 1\u001b[0;31m \u001b[0ms1\u001b[0m\u001b[0;34m.\u001b[0m\u001b[0mplot\u001b[0m\u001b[0;34m(\u001b[0m\u001b[0mkind\u001b[0m\u001b[0;34m=\u001b[0m\u001b[0;34m'hist'\u001b[0m\u001b[0;34m,\u001b[0m \u001b[0mbins\u001b[0m\u001b[0;34m=\u001b[0m\u001b[0;34m[\u001b[0m\u001b[0;36m0\u001b[0m\u001b[0;34m,\u001b[0m\u001b[0;36m10\u001b[0m\u001b[0;34m,\u001b[0m\u001b[0;36m20\u001b[0m\u001b[0;34m]\u001b[0m\u001b[0;34m)\u001b[0m\u001b[0;34m\u001b[0m\u001b[0m\n\u001b[0m",
      "\u001b[0;31mAttributeError\u001b[0m: 'numpy.ndarray' object has no attribute 'plot'"
     ]
    }
   ],
   "source": [
    "np..plot(kind='hist', bins=[0,10,20]) "
   ]
  },
  {
   "cell_type": "code",
   "execution_count": null,
   "metadata": {
    "collapsed": true
   },
   "outputs": [],
   "source": [
    "plt.hist()"
   ]
  }
 ],
 "metadata": {
  "kernelspec": {
   "display_name": "Python (other-env)",
   "language": "python",
   "name": "other-env"
  },
  "language_info": {
   "codemirror_mode": {
    "name": "ipython",
    "version": 2
   },
   "file_extension": ".py",
   "mimetype": "text/x-python",
   "name": "python",
   "nbconvert_exporter": "python",
   "pygments_lexer": "ipython2",
   "version": "2.7.10"
  }
 },
 "nbformat": 4,
 "nbformat_minor": 2
}
