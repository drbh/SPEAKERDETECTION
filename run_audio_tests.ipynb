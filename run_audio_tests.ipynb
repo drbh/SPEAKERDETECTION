{
 "cells": [
  {
   "cell_type": "code",
   "execution_count": 11,
   "metadata": {
    "collapsed": false
   },
   "outputs": [
    {
     "name": "stdout",
     "output_type": "stream",
     "text": [
      "/Users/drbh/Documents/00000/SpeakerDetectionRecog/speaker_detection\n",
      "total 35232\n",
      "drwxr-xr-x  31 drbh  staff   1.0K Jan 10 16:39 \u001b[34m.\u001b[m\u001b[m\n",
      "drwxr-xr-x   7 drbh  staff   238B Jan  2 16:43 \u001b[34m..\u001b[m\u001b[m\n",
      "-rw-r--r--@  1 drbh  staff    10K Jan  3 14:48 .DS_Store\n",
      "drwxr-xr-x   8 drbh  staff   272B Jan 10 16:35 \u001b[34m.ipynb_checkpoints\u001b[m\u001b[m\n",
      "drwxr-xr-x  11 drbh  staff   374B Jan  2 16:45 \u001b[34mPeople\u001b[m\u001b[m\n",
      "-rw-r--r--   1 drbh  staff   3.0K Dec 28 12:10 Radio Streaming.ipynb\n",
      "-rw-r--r--   1 drbh  staff    20K Jan 10 16:39 Untitled.ipynb\n",
      "-rw-r--r--   1 drbh  staff   1.6K Dec 26 21:18 Untitled1.ipynb\n",
      "-rw-r--r--   1 drbh  staff    16K Dec 28 17:11 add_user.ipynb\n",
      "-rw-r--r--   1 drbh  staff   344K Dec 28 12:16 apt.wav\n",
      "-rw-r--r--   1 drbh  staff   1.0K Dec 29 00:31 audios.py\n",
      "-rw-r--r--   1 drbh  staff   513K Jan 10 15:23 base_silence.wav\n",
      "drwxr-xr-x@  6 drbh  staff   204B Nov 14 18:39 \u001b[34mdata\u001b[m\u001b[m\n",
      "drwxr-xr-x@ 12 drbh  staff   408B Dec 25 16:25 \u001b[34mfeature\u001b[m\u001b[m\n",
      "drwxr-xr-x@ 14 drbh  staff   476B Dec 26 18:27 \u001b[34mfilters\u001b[m\u001b[m\n",
      "drwxr-xr-x@ 16 drbh  staff   544B Dec 25 16:32 \u001b[34mgmm\u001b[m\u001b[m\n",
      "drwxr-xr-x@ 27 drbh  staff   918B Dec 28 17:34 \u001b[34mgui\u001b[m\u001b[m\n",
      "drwxr-xr-x@ 18 drbh  staff   612B Nov 14 18:39 \u001b[34mjfa\u001b[m\u001b[m\n",
      "drwxr-xr-x@  8 drbh  staff   272B Nov 14 18:39 \u001b[34mlpcc\u001b[m\u001b[m\n",
      "-rw-r--r--   1 drbh  staff   7.8M Jan  2 16:51 model.out\n",
      "-rw-r--r--   1 drbh  staff   3.8M Dec 29 00:28 model_cleaned.out\n",
      "-rw-r--r--   1 drbh  staff   3.0M Dec 28 16:49 model_two.out\n",
      "drwxr-xr-x@  8 drbh  staff   272B Dec 28 12:16 \u001b[34mnn\u001b[m\u001b[m\n",
      "-rw-r--r--   1 drbh  staff    18K Dec 28 22:36 radiostreaming.ipynb\n",
      "-rw-r--r--   1 drbh  staff   164K Jan 10 15:25 run_audio_tests.ipynb\n",
      "-rw-r--r--   1 drbh  staff   6.0K Jan  3 15:43 speakdetect.ipynb\n",
      "-rw-r--r--   1 drbh  staff     0B Dec 29 00:28 stream.mp3\n",
      "-rw-r--r--   1 drbh  staff   1.0M Dec 29 00:28 stream.wav\n",
      "drwxr-xr-x@ 19 drbh  staff   646B Nov 14 18:39 \u001b[34mtest\u001b[m\u001b[m\n",
      "drwxr-xr-x@ 12 drbh  staff   408B Dec 26 17:54 \u001b[34mtestbench\u001b[m\u001b[m\n",
      "-rw-r--r--   1 drbh  staff   513K Jan 10 15:24 tmp.wav\n"
     ]
    }
   ],
   "source": [
    "!pwd\n",
    "!ls -lah"
   ]
  },
  {
   "cell_type": "code",
   "execution_count": 1,
   "metadata": {
    "collapsed": false
   },
   "outputs": [
    {
     "name": "stderr",
     "output_type": "stream",
     "text": [
      "No module named ap\n",
      "Warning: failed to import Bob, will use a slower version of MFCC instead.\n",
      "Warning: failed to import fast-gmm, use gmm from scikit-learn instead\n"
     ]
    }
   ],
   "source": [
    "from collections import defaultdict\n",
    "from scipy.io import wavfile\n",
    "import numpy as np\n",
    "import cPickle as pickle\n",
    "import traceback as tb\n",
    "import itertools\n",
    "import glob\n",
    "import time\n",
    "import os\n",
    "import sys\n",
    "\n",
    "# add to run in ipython\n",
    "sys.path.append('./gui/')\n",
    "\n",
    "from interface import ModelInterface\n",
    "from utils import read_wav\n",
    "from filters.silence import remove_silence\n",
    "from feature import mix_feature"
   ]
  },
  {
   "cell_type": "code",
   "execution_count": 8,
   "metadata": {
    "collapsed": false
   },
   "outputs": [],
   "source": [
    "execfile(\"./audios.py\")"
   ]
  },
  {
   "cell_type": "code",
   "execution_count": null,
   "metadata": {
    "collapsed": true
   },
   "outputs": [],
   "source": []
  },
  {
   "cell_type": "code",
   "execution_count": 3,
   "metadata": {
    "collapsed": false
   },
   "outputs": [],
   "source": [
    "import boto3\n"
   ]
  },
  {
   "cell_type": "code",
   "execution_count": 6,
   "metadata": {
    "collapsed": false
   },
   "outputs": [],
   "source": [
    "event = {\n",
    "  \"Records\": [\n",
    "    {\n",
    "      \"eventVersion\": \"2.0\",\n",
    "      \"eventTime\": \"1970-01-01T00:00:00.000Z\",\n",
    "      \"requestParameters\": {\n",
    "        \"sourceIPAddress\": \"127.0.0.1\"\n",
    "      },\n",
    "      \"s3\": {\n",
    "        \"configurationId\": \"testConfigRule\",\n",
    "        \"object\": {\n",
    "          \"key\": \"03_my_name.wav\"\n",
    "        },\n",
    "        \"bucket\": {\n",
    "          \"name\": \"asu.datascience\"\n",
    "        },\n",
    "        \"s3SchemaVersion\": \"1.0\"\n",
    "      },\n",
    "      \"eventSource\": \"aws:s3\"\n",
    "    }\n",
    "  ]\n",
    "}"
   ]
  },
  {
   "cell_type": "code",
   "execution_count": 26,
   "metadata": {
    "collapsed": false
   },
   "outputs": [
    {
     "name": "stdout",
     "output_type": "stream",
     "text": [
      "Getting file: 03_my_name.wav from bucket asu.datascience\n",
      "File saved to: /tmp/temp.wav\n"
     ]
    }
   ],
   "source": [
    "import json\n",
    "import urllib\n",
    "s3 = boto3.client('s3')\n",
    "bucket = event['Records'][0]['s3']['bucket']['name']\n",
    "key = urllib.unquote_plus(event['Records'][0]['s3']['object']['key'].encode('utf8'))\n",
    "print \"Getting file:\", key, \"from bucket\", bucket\n",
    "s3.download_file(bucket, key, '/tmp/temp.wav')\n",
    "os.path.exists(\"/tmp/temp.wav\")\n",
    "print \"File saved to: /tmp/temp.wav\""
   ]
  },
  {
   "cell_type": "code",
   "execution_count": 21,
   "metadata": {
    "collapsed": true
   },
   "outputs": [],
   "source": []
  },
  {
   "cell_type": "code",
   "execution_count": 22,
   "metadata": {
    "collapsed": false
   },
   "outputs": [
    {
     "data": {
      "text/plain": [
       "True"
      ]
     },
     "execution_count": 22,
     "metadata": {},
     "output_type": "execute_result"
    }
   ],
   "source": []
  },
  {
   "cell_type": "code",
   "execution_count": null,
   "metadata": {
    "collapsed": true
   },
   "outputs": [],
   "source": []
  },
  {
   "cell_type": "code",
   "execution_count": 3,
   "metadata": {
    "collapsed": false
   },
   "outputs": [],
   "source": [
    "def record_samples(name, n = 20):\n",
    "    for i in range(1,n):\n",
    "        dirc = \"./People/\" + name + \"/\"\n",
    "        fname = time.strftime(\"%Y%m%d-%H%M%S\") \n",
    "        print(i)\n",
    "        record_audio( dirc + fname + \".wav\")\n",
    "    print(\"done\")\n",
    "    \n",
    "def see_model(mods):\n",
    "    for count, (key, value) in enumerate(mods.features.iteritems(), 1):\n",
    "        print count, key, len(value)\n",
    "        \n",
    "def add_user_to_model(model,name):\n",
    "    m = model\n",
    "    fname = \"./People/\" + name + \"/\"\n",
    "    input_dirs = fname\n",
    "    input_dirs = [os.path.expanduser(k) for k in input_dirs.strip().split()]\n",
    "    dirs = itertools.chain(*(glob.glob(d) for d in input_dirs))\n",
    "    dirs = [d for d in dirs if os.path.isdir(d)]\n",
    "    files = []\n",
    "    print(dirs)\n",
    "    if len(dirs) == 0:\n",
    "        print \"No valid directory found!\"\n",
    "        sys.exit(1)\n",
    "    for d in dirs:\n",
    "        label = os.path.basename(d.rstrip('/'))\n",
    "\n",
    "        wavs = glob.glob(d + '/*.wav')\n",
    "        if len(wavs) == 0:\n",
    "            print \"No wav file found in {0}\".format(d)\n",
    "            continue\n",
    "        print \"Label {0} has files {1}\".format(label, ','.join(wavs))\n",
    "        for wav in wavs:\n",
    "            fs, signal = read_wav(wav)\n",
    "#             fs, signal = check_vad(fs, signal)\n",
    "            if len(signal) > 0:\n",
    "                m.enroll(label, fs, signal)\n",
    "    m.train()\n",
    "    \n",
    "def record_samples(name, n = 20):\n",
    "    for i in range(1,n):\n",
    "        dirc = \"./People/\" + name + \"/\"\n",
    "        fname = time.strftime(\"%Y%m%d-%H%M%S\") \n",
    "        print(i)\n",
    "        record_audio( dirc + fname + \".wav\")\n",
    "    print(\"done\")\n",
    "\n",
    "def test_model(mods,path = \"./tmp.wav\"):\n",
    "    fs, signal = read_wav(path)\n",
    "    feat = mix_feature((fs, signal))\n",
    "    x = feat\n",
    "    scores = [mods.gmmset.gmm_score(gmm, x) / len(x) for gmm in mods.gmmset.gmms]\n",
    "    import operator\n",
    "    p = sorted(enumerate(scores), key=operator.itemgetter(1), reverse=True)\n",
    "    p = [(str(mods.gmmset.y[i]), y, p[0][1] - y) for i, y in p]\n",
    "    result = [(mods.gmmset.y[index], value) for (index, value) in enumerate(scores)]\n",
    "    p = max(result, key=operator.itemgetter(1))\n",
    "    return result\n",
    "    \n",
    "def find_user():\n",
    "    #print(\" + Recording\")\n",
    "    record_audio(\"./tmp.wav\")\n",
    "    #print(\" + Predicting\")\n",
    "    input_model = \"model.out\"\n",
    "    input_files = \"./tmp.wav\"\n",
    "    m = ModelInterface.load(input_model)\n",
    "#     m = model\n",
    "    for f in glob.glob(os.path.expanduser(input_files)):\n",
    "        fs, signal = read_wav(f)\n",
    "        label = m.predict(fs, signal)\n",
    "        print max(label, key=operator.itemgetter(1))\n",
    "#         if abs(label[0][1] - label[1][1]) > .0000002:\n",
    "#             speakers_detected = [x for x in label if x[1] >= -.1]\n",
    "#             if len(speakers_detected) > 0:\n",
    "#                 print max(speakers_detected, key=operator.itemgetter(1))\n",
    "#             else:\n",
    "#                 print \"___                         not similar enough to know speaker\"\n",
    "#         else:\n",
    "#             print \"...                                    predictions too similar\"\n",
    "\n",
    "    "
   ]
  },
  {
   "cell_type": "code",
   "execution_count": null,
   "metadata": {
    "collapsed": true
   },
   "outputs": [],
   "source": []
  },
  {
   "cell_type": "code",
   "execution_count": null,
   "metadata": {
    "collapsed": true
   },
   "outputs": [],
   "source": []
  },
  {
   "cell_type": "code",
   "execution_count": null,
   "metadata": {
    "collapsed": true
   },
   "outputs": [],
   "source": []
  },
  {
   "cell_type": "code",
   "execution_count": 4,
   "metadata": {
    "collapsed": true
   },
   "outputs": [],
   "source": [
    "mods = ModelInterface()"
   ]
  },
  {
   "cell_type": "code",
   "execution_count": 7,
   "metadata": {
    "collapsed": false
   },
   "outputs": [
    {
     "name": "stdout",
     "output_type": "stream",
     "text": [
      "max_ltsd = 18.609011273\n",
      "lambda0 = 20.4699124004\n",
      "lambda1 = 40.9398248007\n"
     ]
    }
   ],
   "source": [
    "def set_baseline_noise(mods):\n",
    "    record_audio(\"base_silence.wav\")\n",
    "    fs, signal = read_wav(\"base_silence.wav\")\n",
    "    return mods.init_noise(fs, signal)\n",
    "\n",
    "set_baseline_noise(mods)"
   ]
  },
  {
   "cell_type": "code",
   "execution_count": 6,
   "metadata": {
    "collapsed": false
   },
   "outputs": [
    {
     "name": "stdout",
     "output_type": "stream",
     "text": [
      "1 Kathy 2775\n",
      "2 Luke 2775\n",
      "3 David 3515\n",
      "4 Nick 2590\n",
      "5 Joe 2405\n",
      "6 Lauren 2405\n"
     ]
    }
   ],
   "source": [
    "mods = mods.load(\"./model.out\")\n",
    "see_model(mods)"
   ]
  },
  {
   "cell_type": "code",
   "execution_count": 14,
   "metadata": {
    "collapsed": false
   },
   "outputs": [
    {
     "name": "stdout",
     "output_type": "stream",
     "text": [
      "already made\n",
      "1\n",
      "2\n"
     ]
    },
    {
     "ename": "KeyboardInterrupt",
     "evalue": "",
     "output_type": "error",
     "traceback": [
      "\u001b[0;31m---------------------------------------------------------------------------\u001b[0m",
      "\u001b[0;31mKeyboardInterrupt\u001b[0m                         Traceback (most recent call last)",
      "\u001b[0;32m<ipython-input-14-cc20131eed3c>\u001b[0m in \u001b[0;36m<module>\u001b[0;34m()\u001b[0m\n\u001b[1;32m      6\u001b[0m     \u001b[0;32mprint\u001b[0m \u001b[0;34m\"already made\"\u001b[0m\u001b[0;34m\u001b[0m\u001b[0m\n\u001b[1;32m      7\u001b[0m \u001b[0;34m\u001b[0m\u001b[0m\n\u001b[0;32m----> 8\u001b[0;31m \u001b[0mrecord_samples\u001b[0m\u001b[0;34m(\u001b[0m\u001b[0;34m\"New\"\u001b[0m\u001b[0;34m)\u001b[0m\u001b[0;34m\u001b[0m\u001b[0m\n\u001b[0m",
      "\u001b[0;32m<ipython-input-3-d695651162b9>\u001b[0m in \u001b[0;36mrecord_samples\u001b[0;34m(name, n)\u001b[0m\n\u001b[1;32m     43\u001b[0m         \u001b[0mfname\u001b[0m \u001b[0;34m=\u001b[0m \u001b[0mtime\u001b[0m\u001b[0;34m.\u001b[0m\u001b[0mstrftime\u001b[0m\u001b[0;34m(\u001b[0m\u001b[0;34m\"%Y%m%d-%H%M%S\"\u001b[0m\u001b[0;34m)\u001b[0m\u001b[0;34m\u001b[0m\u001b[0m\n\u001b[1;32m     44\u001b[0m         \u001b[0;32mprint\u001b[0m\u001b[0;34m(\u001b[0m\u001b[0mi\u001b[0m\u001b[0;34m)\u001b[0m\u001b[0;34m\u001b[0m\u001b[0m\n\u001b[0;32m---> 45\u001b[0;31m         \u001b[0mrecord_audio\u001b[0m\u001b[0;34m(\u001b[0m \u001b[0mdirc\u001b[0m \u001b[0;34m+\u001b[0m \u001b[0mfname\u001b[0m \u001b[0;34m+\u001b[0m \u001b[0;34m\".wav\"\u001b[0m\u001b[0;34m)\u001b[0m\u001b[0;34m\u001b[0m\u001b[0m\n\u001b[0m\u001b[1;32m     46\u001b[0m     \u001b[0;32mprint\u001b[0m\u001b[0;34m(\u001b[0m\u001b[0;34m\"done\"\u001b[0m\u001b[0;34m)\u001b[0m\u001b[0;34m\u001b[0m\u001b[0m\n\u001b[1;32m     47\u001b[0m \u001b[0;34m\u001b[0m\u001b[0m\n",
      "\u001b[0;32m/Users/drbh/Documents/00000/SpeakerDetectionRecog/speaker_detection/audios.py\u001b[0m in \u001b[0;36mrecord_audio\u001b[0;34m(WAVE_OUTPUT_FILENAME)\u001b[0m\n\u001b[1;32m     33\u001b[0m \u001b[0;34m\u001b[0m\u001b[0m\n\u001b[1;32m     34\u001b[0m         \u001b[0;32mfor\u001b[0m \u001b[0mi\u001b[0m \u001b[0;32min\u001b[0m \u001b[0mrange\u001b[0m\u001b[0;34m(\u001b[0m\u001b[0;36m0\u001b[0m\u001b[0;34m,\u001b[0m \u001b[0mint\u001b[0m\u001b[0;34m(\u001b[0m\u001b[0mRATE\u001b[0m \u001b[0;34m/\u001b[0m \u001b[0mCHUNK\u001b[0m \u001b[0;34m*\u001b[0m \u001b[0mRECORD_SECONDS\u001b[0m\u001b[0;34m)\u001b[0m\u001b[0;34m)\u001b[0m\u001b[0;34m:\u001b[0m\u001b[0;34m\u001b[0m\u001b[0m\n\u001b[0;32m---> 35\u001b[0;31m                 \u001b[0mdata\u001b[0m \u001b[0;34m=\u001b[0m \u001b[0mstream\u001b[0m\u001b[0;34m.\u001b[0m\u001b[0mread\u001b[0m\u001b[0;34m(\u001b[0m\u001b[0mCHUNK\u001b[0m\u001b[0;34m)\u001b[0m\u001b[0;34m\u001b[0m\u001b[0m\n\u001b[0m\u001b[1;32m     36\u001b[0m                 \u001b[0mframes\u001b[0m\u001b[0;34m.\u001b[0m\u001b[0mappend\u001b[0m\u001b[0;34m(\u001b[0m\u001b[0mdata\u001b[0m\u001b[0;34m)\u001b[0m\u001b[0;34m\u001b[0m\u001b[0m\n\u001b[1;32m     37\u001b[0m \u001b[0;34m\u001b[0m\u001b[0m\n",
      "\u001b[0;32m/Users/drbh/speak/lib/python2.7/site-packages/pyaudio.pyc\u001b[0m in \u001b[0;36mread\u001b[0;34m(self, num_frames, exception_on_overflow)\u001b[0m\n\u001b[1;32m    606\u001b[0m                           paCanNotReadFromAnOutputOnlyStream)\n\u001b[1;32m    607\u001b[0m \u001b[0;34m\u001b[0m\u001b[0m\n\u001b[0;32m--> 608\u001b[0;31m         \u001b[0;32mreturn\u001b[0m \u001b[0mpa\u001b[0m\u001b[0;34m.\u001b[0m\u001b[0mread_stream\u001b[0m\u001b[0;34m(\u001b[0m\u001b[0mself\u001b[0m\u001b[0;34m.\u001b[0m\u001b[0m_stream\u001b[0m\u001b[0;34m,\u001b[0m \u001b[0mnum_frames\u001b[0m\u001b[0;34m,\u001b[0m \u001b[0mexception_on_overflow\u001b[0m\u001b[0;34m)\u001b[0m\u001b[0;34m\u001b[0m\u001b[0m\n\u001b[0m\u001b[1;32m    609\u001b[0m \u001b[0;34m\u001b[0m\u001b[0m\n\u001b[1;32m    610\u001b[0m     \u001b[0;32mdef\u001b[0m \u001b[0mget_read_available\u001b[0m\u001b[0;34m(\u001b[0m\u001b[0mself\u001b[0m\u001b[0;34m)\u001b[0m\u001b[0;34m:\u001b[0m\u001b[0;34m\u001b[0m\u001b[0m\n",
      "\u001b[0;31mKeyboardInterrupt\u001b[0m: "
     ]
    }
   ],
   "source": [
    "\n",
    "directory = \"./People/New\"\n",
    "if not os.path.exists(directory):\n",
    "    os.makedirs(directory)\n",
    "else:\n",
    "    print \"already made\"\n",
    "    \n",
    "record_samples(\"New\")"
   ]
  },
  {
   "cell_type": "code",
   "execution_count": 15,
   "metadata": {
    "collapsed": false
   },
   "outputs": [
    {
     "name": "stdout",
     "output_type": "stream",
     "text": [
      "['./People/New/']\n",
      "Label New has files ./People/New/20170116-133231.wav,./People/New/20170116-133233.wav,./People/New/20170116-133234.wav,./People/New/20170116-133235.wav,./People/New/20170116-133237.wav,./People/New/20170116-133238.wav,./People/New/20170116-133240.wav,./People/New/20170116-133241.wav,./People/New/20170116-133242.wav,./People/New/20170116-133244.wav,./People/New/20170116-133245.wav,./People/New/20170116-133246.wav,./People/New/20170116-133333.wav\n",
      "Start training...\n",
      "7.70209598541  seconds\n",
      "1 Kathy 2775\n",
      "2 Luke 2775\n",
      "3 David 3515\n",
      "4 Nick 2590\n",
      "5 Joe 2405\n",
      "6 New 1900\n",
      "7 Lauren 2405\n"
     ]
    }
   ],
   "source": [
    "add_user_to_model(mods,\"New\")\n",
    "see_model(mods)\n",
    "    "
   ]
  },
  {
   "cell_type": "code",
   "execution_count": 16,
   "metadata": {
    "collapsed": false
   },
   "outputs": [],
   "source": [
    "def check_vad(fs,signal):\n",
    "    new_signal = mods.filter(*(fs, signal))\n",
    "    print \"After removed: {0} -> {1}\".format(len((fs, signal)[1]), len(new_signal))\n",
    "    print \"Enroll: {:.4f} seconds\".format(float(len(new_signal)) / fs)\n",
    "    if len(new_signal) == 0:\n",
    "        print \"Error! Input is silent! Please enroll again\"\n",
    "    return (fs,new_signal)"
   ]
  },
  {
   "cell_type": "code",
   "execution_count": 12,
   "metadata": {
    "collapsed": false,
    "scrolled": true
   },
   "outputs": [
    {
     "name": "stdout",
     "output_type": "stream",
     "text": [
      "['./People/New/']\n",
      "Label New has files ./People/New/20170116-133231.wav,./People/New/20170116-133233.wav,./People/New/20170116-133234.wav,./People/New/20170116-133235.wav,./People/New/20170116-133237.wav,./People/New/20170116-133238.wav,./People/New/20170116-133240.wav,./People/New/20170116-133241.wav,./People/New/20170116-133242.wav,./People/New/20170116-133244.wav,./People/New/20170116-133245.wav,./People/New/20170116-133246.wav\n",
      "Start training...\n",
      "7.59314584732  seconds\n"
     ]
    }
   ],
   "source": []
  },
  {
   "cell_type": "code",
   "execution_count": 13,
   "metadata": {
    "collapsed": false,
    "scrolled": true
   },
   "outputs": [
    {
     "name": "stdout",
     "output_type": "stream",
     "text": [
      "1 Kathy 2775\n",
      "2 Luke 2775\n",
      "3 David 3515\n",
      "4 Nick 2590\n",
      "5 Joe 2405\n",
      "6 New 912\n",
      "7 Lauren 2405\n"
     ]
    }
   ],
   "source": []
  },
  {
   "cell_type": "code",
   "execution_count": 19,
   "metadata": {
    "collapsed": true
   },
   "outputs": [],
   "source": [
    "mods.dump(\"model.out\")"
   ]
  },
  {
   "cell_type": "code",
   "execution_count": 9,
   "metadata": {
    "collapsed": false
   },
   "outputs": [
    {
     "name": "stdout",
     "output_type": "stream",
     "text": [
      "('David', -0.468528510096478)\n",
      "('David', -0.38083417879766585)\n",
      "('David', -0.37572212556539331)\n",
      "('Luke', -0.36622744808001945)\n",
      "('David', -0.29201383636938133)\n",
      "('David', -0.31291997505962793)\n",
      "('David', -0.23317528882797384)\n",
      "('David', -0.45305351562237645)\n",
      "('David', -0.30733288479169379)\n",
      "('David', -0.37466500055964314)\n",
      "('David', -0.32054089580694139)\n",
      "('David', -0.25519878307155153)\n",
      "('David', -0.32568186373950025)\n",
      "('David', -0.33022444290998548)\n",
      "('David', -0.31753966972521142)\n",
      "('David', -0.65032151036882346)\n",
      "('David', -0.33933075840462301)\n",
      "('David', -0.47221432459368284)\n",
      "('David', -0.25315117733737208)\n",
      "('David', -0.28802322257623908)\n",
      "('David', -0.40359549199675426)\n",
      "('Luke', -0.47630632540979118)\n",
      "('David', -0.52306164329043836)\n",
      "('Luke', -0.49331363359889696)\n",
      "('Luke', -0.41014341974346163)\n",
      "('Luke', -0.51646021542978438)\n",
      "('Nick', -0.42163031263679768)\n",
      "('David', -0.44938054705096941)\n",
      "('David', -0.27054171506423669)\n",
      "('David', -0.37225037582665432)\n",
      "('David', -0.45153437498501275)\n"
     ]
    },
    {
     "ename": "KeyboardInterrupt",
     "evalue": "",
     "output_type": "error",
     "traceback": [
      "\u001b[0;31m---------------------------------------------------------------------------\u001b[0m",
      "\u001b[0;31mKeyboardInterrupt\u001b[0m                         Traceback (most recent call last)",
      "\u001b[0;32m<ipython-input-9-cbfe547fdfaf>\u001b[0m in \u001b[0;36m<module>\u001b[0;34m()\u001b[0m\n\u001b[1;32m      2\u001b[0m \u001b[0mexecfile\u001b[0m\u001b[0;34m(\u001b[0m\u001b[0;34m\"./audios.py\"\u001b[0m\u001b[0;34m)\u001b[0m\u001b[0;34m\u001b[0m\u001b[0m\n\u001b[1;32m      3\u001b[0m \u001b[0;32mfor\u001b[0m \u001b[0mi\u001b[0m \u001b[0;32min\u001b[0m \u001b[0mrange\u001b[0m\u001b[0;34m(\u001b[0m\u001b[0;36m1\u001b[0m\u001b[0;34m,\u001b[0m\u001b[0;36m60\u001b[0m\u001b[0;34m)\u001b[0m\u001b[0;34m:\u001b[0m\u001b[0;34m\u001b[0m\u001b[0m\n\u001b[0;32m----> 4\u001b[0;31m     \u001b[0mfind_user\u001b[0m\u001b[0;34m(\u001b[0m\u001b[0;34m)\u001b[0m\u001b[0;34m\u001b[0m\u001b[0m\n\u001b[0m",
      "\u001b[0;32m<ipython-input-3-d695651162b9>\u001b[0m in \u001b[0;36mfind_user\u001b[0;34m()\u001b[0m\n\u001b[1;32m     60\u001b[0m \u001b[0;32mdef\u001b[0m \u001b[0mfind_user\u001b[0m\u001b[0;34m(\u001b[0m\u001b[0;34m)\u001b[0m\u001b[0;34m:\u001b[0m\u001b[0;34m\u001b[0m\u001b[0m\n\u001b[1;32m     61\u001b[0m     \u001b[0;31m#print(\" + Recording\")\u001b[0m\u001b[0;34m\u001b[0m\u001b[0;34m\u001b[0m\u001b[0m\n\u001b[0;32m---> 62\u001b[0;31m     \u001b[0mrecord_audio\u001b[0m\u001b[0;34m(\u001b[0m\u001b[0;34m\"./tmp.wav\"\u001b[0m\u001b[0;34m)\u001b[0m\u001b[0;34m\u001b[0m\u001b[0m\n\u001b[0m\u001b[1;32m     63\u001b[0m     \u001b[0;31m#print(\" + Predicting\")\u001b[0m\u001b[0;34m\u001b[0m\u001b[0;34m\u001b[0m\u001b[0m\n\u001b[1;32m     64\u001b[0m     \u001b[0minput_model\u001b[0m \u001b[0;34m=\u001b[0m \u001b[0;34m\"model.out\"\u001b[0m\u001b[0;34m\u001b[0m\u001b[0m\n",
      "\u001b[0;32m/Users/drbh/Documents/00000/SpeakerDetectionRecog/speaker_detection/audios.py\u001b[0m in \u001b[0;36mrecord_audio\u001b[0;34m(WAVE_OUTPUT_FILENAME)\u001b[0m\n\u001b[1;32m     33\u001b[0m \u001b[0;34m\u001b[0m\u001b[0m\n\u001b[1;32m     34\u001b[0m         \u001b[0;32mfor\u001b[0m \u001b[0mi\u001b[0m \u001b[0;32min\u001b[0m \u001b[0mrange\u001b[0m\u001b[0;34m(\u001b[0m\u001b[0;36m0\u001b[0m\u001b[0;34m,\u001b[0m \u001b[0mint\u001b[0m\u001b[0;34m(\u001b[0m\u001b[0mRATE\u001b[0m \u001b[0;34m/\u001b[0m \u001b[0mCHUNK\u001b[0m \u001b[0;34m*\u001b[0m \u001b[0mRECORD_SECONDS\u001b[0m\u001b[0;34m)\u001b[0m\u001b[0;34m)\u001b[0m\u001b[0;34m:\u001b[0m\u001b[0;34m\u001b[0m\u001b[0m\n\u001b[0;32m---> 35\u001b[0;31m                 \u001b[0mdata\u001b[0m \u001b[0;34m=\u001b[0m \u001b[0mstream\u001b[0m\u001b[0;34m.\u001b[0m\u001b[0mread\u001b[0m\u001b[0;34m(\u001b[0m\u001b[0mCHUNK\u001b[0m\u001b[0;34m)\u001b[0m\u001b[0;34m\u001b[0m\u001b[0m\n\u001b[0m\u001b[1;32m     36\u001b[0m                 \u001b[0mframes\u001b[0m\u001b[0;34m.\u001b[0m\u001b[0mappend\u001b[0m\u001b[0;34m(\u001b[0m\u001b[0mdata\u001b[0m\u001b[0;34m)\u001b[0m\u001b[0;34m\u001b[0m\u001b[0m\n\u001b[1;32m     37\u001b[0m \u001b[0;34m\u001b[0m\u001b[0m\n",
      "\u001b[0;32m/Users/drbh/speak/lib/python2.7/site-packages/pyaudio.pyc\u001b[0m in \u001b[0;36mread\u001b[0;34m(self, num_frames, exception_on_overflow)\u001b[0m\n\u001b[1;32m    606\u001b[0m                           paCanNotReadFromAnOutputOnlyStream)\n\u001b[1;32m    607\u001b[0m \u001b[0;34m\u001b[0m\u001b[0m\n\u001b[0;32m--> 608\u001b[0;31m         \u001b[0;32mreturn\u001b[0m \u001b[0mpa\u001b[0m\u001b[0;34m.\u001b[0m\u001b[0mread_stream\u001b[0m\u001b[0;34m(\u001b[0m\u001b[0mself\u001b[0m\u001b[0;34m.\u001b[0m\u001b[0m_stream\u001b[0m\u001b[0;34m,\u001b[0m \u001b[0mnum_frames\u001b[0m\u001b[0;34m,\u001b[0m \u001b[0mexception_on_overflow\u001b[0m\u001b[0;34m)\u001b[0m\u001b[0;34m\u001b[0m\u001b[0m\n\u001b[0m\u001b[1;32m    609\u001b[0m \u001b[0;34m\u001b[0m\u001b[0m\n\u001b[1;32m    610\u001b[0m     \u001b[0;32mdef\u001b[0m \u001b[0mget_read_available\u001b[0m\u001b[0;34m(\u001b[0m\u001b[0mself\u001b[0m\u001b[0;34m)\u001b[0m\u001b[0;34m:\u001b[0m\u001b[0;34m\u001b[0m\u001b[0m\n",
      "\u001b[0;31mKeyboardInterrupt\u001b[0m: "
     ]
    }
   ],
   "source": [
    "import operator\n",
    "execfile(\"./audios.py\")\n",
    "for i in range(1,60):\n",
    "    find_user()"
   ]
  },
  {
   "cell_type": "code",
   "execution_count": null,
   "metadata": {
    "collapsed": true
   },
   "outputs": [],
   "source": []
  },
  {
   "cell_type": "code",
   "execution_count": null,
   "metadata": {
    "collapsed": true
   },
   "outputs": [],
   "source": []
  },
  {
   "cell_type": "markdown",
   "metadata": {},
   "source": [
    "# Editing things below"
   ]
  },
  {
   "cell_type": "code",
   "execution_count": null,
   "metadata": {
    "collapsed": true
   },
   "outputs": [],
   "source": []
  },
  {
   "cell_type": "code",
   "execution_count": null,
   "metadata": {
    "collapsed": true
   },
   "outputs": [],
   "source": []
  },
  {
   "cell_type": "code",
   "execution_count": 18,
   "metadata": {
    "collapsed": false
   },
   "outputs": [
    {
     "data": {
      "text/plain": [
       "[('Kathy', -0.20554578130567816),\n",
       " ('Joe', -0.15968625310309717),\n",
       " ('David', -0.11703955291437099)]"
      ]
     },
     "execution_count": 18,
     "metadata": {},
     "output_type": "execute_result"
    }
   ],
   "source": [
    "test_model(mods)"
   ]
  },
  {
   "cell_type": "code",
   "execution_count": 19,
   "metadata": {
    "collapsed": true
   },
   "outputs": [],
   "source": [
    "#save model after interaction\n",
    "mods.dump(\"./model_cleaned.out\")"
   ]
  },
  {
   "cell_type": "code",
   "execution_count": 20,
   "metadata": {
    "collapsed": true
   },
   "outputs": [],
   "source": [
    "import requests\n",
    "import pydub\n",
    "\n",
    "def open_radio():\n",
    "    stream_url = 'https://fm939.wnyc.org/wnycfm'\n",
    "    r = requests.get(stream_url, stream=True)\n",
    "    return r\n",
    "\n",
    "def stream_sample(r):\n",
    "    a = 0\n",
    "    with open('stream.mp3', 'wb') as f:\n",
    "        for block in r.iter_content(1024):\n",
    "            f.write(block)\n",
    "            a = a + 1\n",
    "            if ( a > 100):\n",
    "                break\n",
    "        r.close()     \n",
    "    sound = pydub.AudioSegment.from_mp3(\"stream.mp3\")\n",
    "    sound.export(\"stream.wav\", format=\"wav\")"
   ]
  },
  {
   "cell_type": "code",
   "execution_count": 25,
   "metadata": {
    "collapsed": true
   },
   "outputs": [],
   "source": [
    "radio_stream = open_radio()"
   ]
  },
  {
   "cell_type": "code",
   "execution_count": 24,
   "metadata": {
    "collapsed": true
   },
   "outputs": [
    {
     "ename": "AttributeError",
     "evalue": "'NoneType' object has no attribute 'read'",
     "output_type": "error",
     "traceback": [
      "\u001b[0;31m---------------------------------------------------------------------------\u001b[0m",
      "\u001b[0;31mAttributeError\u001b[0m                            Traceback (most recent call last)",
      "\u001b[0;32m<ipython-input-24-c4fd8983395a>\u001b[0m in \u001b[0;36m<module>\u001b[0;34m()\u001b[0m\n\u001b[0;32m----> 1\u001b[0;31m \u001b[0mstream_sample\u001b[0m\u001b[0;34m(\u001b[0m\u001b[0mradio_stream\u001b[0m\u001b[0;34m)\u001b[0m\u001b[0;34m\u001b[0m\u001b[0m\n\u001b[0m",
      "\u001b[0;32m<ipython-input-20-02f7911c208d>\u001b[0m in \u001b[0;36mstream_sample\u001b[0;34m(r)\u001b[0m\n\u001b[1;32m     10\u001b[0m     \u001b[0ma\u001b[0m \u001b[0;34m=\u001b[0m \u001b[0;36m0\u001b[0m\u001b[0;34m\u001b[0m\u001b[0m\n\u001b[1;32m     11\u001b[0m     \u001b[0;32mwith\u001b[0m \u001b[0mopen\u001b[0m\u001b[0;34m(\u001b[0m\u001b[0;34m'stream.mp3'\u001b[0m\u001b[0;34m,\u001b[0m \u001b[0;34m'wb'\u001b[0m\u001b[0;34m)\u001b[0m \u001b[0;32mas\u001b[0m \u001b[0mf\u001b[0m\u001b[0;34m:\u001b[0m\u001b[0;34m\u001b[0m\u001b[0m\n\u001b[0;32m---> 12\u001b[0;31m         \u001b[0;32mfor\u001b[0m \u001b[0mblock\u001b[0m \u001b[0;32min\u001b[0m \u001b[0mr\u001b[0m\u001b[0;34m.\u001b[0m\u001b[0miter_content\u001b[0m\u001b[0;34m(\u001b[0m\u001b[0;36m1024\u001b[0m\u001b[0;34m)\u001b[0m\u001b[0;34m:\u001b[0m\u001b[0;34m\u001b[0m\u001b[0m\n\u001b[0m\u001b[1;32m     13\u001b[0m             \u001b[0mf\u001b[0m\u001b[0;34m.\u001b[0m\u001b[0mwrite\u001b[0m\u001b[0;34m(\u001b[0m\u001b[0mblock\u001b[0m\u001b[0;34m)\u001b[0m\u001b[0;34m\u001b[0m\u001b[0m\n\u001b[1;32m     14\u001b[0m             \u001b[0ma\u001b[0m \u001b[0;34m=\u001b[0m \u001b[0ma\u001b[0m \u001b[0;34m+\u001b[0m \u001b[0;36m1\u001b[0m\u001b[0;34m\u001b[0m\u001b[0m\n",
      "\u001b[0;32m/Users/drbh/speak/lib/python2.7/site-packages/requests/models.pyc\u001b[0m in \u001b[0;36mgenerate\u001b[0;34m()\u001b[0m\n\u001b[1;32m    701\u001b[0m             \u001b[0;32mif\u001b[0m \u001b[0mhasattr\u001b[0m\u001b[0;34m(\u001b[0m\u001b[0mself\u001b[0m\u001b[0;34m.\u001b[0m\u001b[0mraw\u001b[0m\u001b[0;34m,\u001b[0m \u001b[0;34m'stream'\u001b[0m\u001b[0;34m)\u001b[0m\u001b[0;34m:\u001b[0m\u001b[0;34m\u001b[0m\u001b[0m\n\u001b[1;32m    702\u001b[0m                 \u001b[0;32mtry\u001b[0m\u001b[0;34m:\u001b[0m\u001b[0;34m\u001b[0m\u001b[0m\n\u001b[0;32m--> 703\u001b[0;31m                     \u001b[0;32mfor\u001b[0m \u001b[0mchunk\u001b[0m \u001b[0;32min\u001b[0m \u001b[0mself\u001b[0m\u001b[0;34m.\u001b[0m\u001b[0mraw\u001b[0m\u001b[0;34m.\u001b[0m\u001b[0mstream\u001b[0m\u001b[0;34m(\u001b[0m\u001b[0mchunk_size\u001b[0m\u001b[0;34m,\u001b[0m \u001b[0mdecode_content\u001b[0m\u001b[0;34m=\u001b[0m\u001b[0mTrue\u001b[0m\u001b[0;34m)\u001b[0m\u001b[0;34m:\u001b[0m\u001b[0;34m\u001b[0m\u001b[0m\n\u001b[0m\u001b[1;32m    704\u001b[0m                         \u001b[0;32myield\u001b[0m \u001b[0mchunk\u001b[0m\u001b[0;34m\u001b[0m\u001b[0m\n\u001b[1;32m    705\u001b[0m                 \u001b[0;32mexcept\u001b[0m \u001b[0mProtocolError\u001b[0m \u001b[0;32mas\u001b[0m \u001b[0me\u001b[0m\u001b[0;34m:\u001b[0m\u001b[0;34m\u001b[0m\u001b[0m\n",
      "\u001b[0;32m/Users/drbh/speak/lib/python2.7/site-packages/requests/packages/urllib3/response.pyc\u001b[0m in \u001b[0;36mstream\u001b[0;34m(self, amt, decode_content)\u001b[0m\n\u001b[1;32m    426\u001b[0m         \"\"\"\n\u001b[1;32m    427\u001b[0m         \u001b[0;32mif\u001b[0m \u001b[0mself\u001b[0m\u001b[0;34m.\u001b[0m\u001b[0mchunked\u001b[0m \u001b[0;32mand\u001b[0m \u001b[0mself\u001b[0m\u001b[0;34m.\u001b[0m\u001b[0msupports_chunked_reads\u001b[0m\u001b[0;34m(\u001b[0m\u001b[0;34m)\u001b[0m\u001b[0;34m:\u001b[0m\u001b[0;34m\u001b[0m\u001b[0m\n\u001b[0;32m--> 428\u001b[0;31m             \u001b[0;32mfor\u001b[0m \u001b[0mline\u001b[0m \u001b[0;32min\u001b[0m \u001b[0mself\u001b[0m\u001b[0;34m.\u001b[0m\u001b[0mread_chunked\u001b[0m\u001b[0;34m(\u001b[0m\u001b[0mamt\u001b[0m\u001b[0;34m,\u001b[0m \u001b[0mdecode_content\u001b[0m\u001b[0;34m=\u001b[0m\u001b[0mdecode_content\u001b[0m\u001b[0;34m)\u001b[0m\u001b[0;34m:\u001b[0m\u001b[0;34m\u001b[0m\u001b[0m\n\u001b[0m\u001b[1;32m    429\u001b[0m                 \u001b[0;32myield\u001b[0m \u001b[0mline\u001b[0m\u001b[0;34m\u001b[0m\u001b[0m\n\u001b[1;32m    430\u001b[0m         \u001b[0;32melse\u001b[0m\u001b[0;34m:\u001b[0m\u001b[0;34m\u001b[0m\u001b[0m\n",
      "\u001b[0;32m/Users/drbh/speak/lib/python2.7/site-packages/requests/packages/urllib3/response.pyc\u001b[0m in \u001b[0;36mread_chunked\u001b[0;34m(self, amt, decode_content)\u001b[0m\n\u001b[1;32m    591\u001b[0m                 \u001b[0;32mif\u001b[0m \u001b[0mself\u001b[0m\u001b[0;34m.\u001b[0m\u001b[0mchunk_left\u001b[0m \u001b[0;34m==\u001b[0m \u001b[0;36m0\u001b[0m\u001b[0;34m:\u001b[0m\u001b[0;34m\u001b[0m\u001b[0m\n\u001b[1;32m    592\u001b[0m                     \u001b[0;32mbreak\u001b[0m\u001b[0;34m\u001b[0m\u001b[0m\n\u001b[0;32m--> 593\u001b[0;31m                 \u001b[0mchunk\u001b[0m \u001b[0;34m=\u001b[0m \u001b[0mself\u001b[0m\u001b[0;34m.\u001b[0m\u001b[0m_handle_chunk\u001b[0m\u001b[0;34m(\u001b[0m\u001b[0mamt\u001b[0m\u001b[0;34m)\u001b[0m\u001b[0;34m\u001b[0m\u001b[0m\n\u001b[0m\u001b[1;32m    594\u001b[0m                 decoded = self._decode(chunk, decode_content=decode_content,\n\u001b[1;32m    595\u001b[0m                                        flush_decoder=False)\n",
      "\u001b[0;32m/Users/drbh/speak/lib/python2.7/site-packages/requests/packages/urllib3/response.pyc\u001b[0m in \u001b[0;36m_handle_chunk\u001b[0;34m(self, amt)\u001b[0m\n\u001b[1;32m    551\u001b[0m             \u001b[0mreturned_chunk\u001b[0m \u001b[0;34m=\u001b[0m \u001b[0mvalue\u001b[0m\u001b[0;34m\u001b[0m\u001b[0m\n\u001b[1;32m    552\u001b[0m         \u001b[0;32melif\u001b[0m \u001b[0mamt\u001b[0m \u001b[0;34m==\u001b[0m \u001b[0mself\u001b[0m\u001b[0;34m.\u001b[0m\u001b[0mchunk_left\u001b[0m\u001b[0;34m:\u001b[0m\u001b[0;34m\u001b[0m\u001b[0m\n\u001b[0;32m--> 553\u001b[0;31m             \u001b[0mvalue\u001b[0m \u001b[0;34m=\u001b[0m \u001b[0mself\u001b[0m\u001b[0;34m.\u001b[0m\u001b[0m_fp\u001b[0m\u001b[0;34m.\u001b[0m\u001b[0m_safe_read\u001b[0m\u001b[0;34m(\u001b[0m\u001b[0mamt\u001b[0m\u001b[0;34m)\u001b[0m\u001b[0;34m\u001b[0m\u001b[0m\n\u001b[0m\u001b[1;32m    554\u001b[0m             \u001b[0mself\u001b[0m\u001b[0;34m.\u001b[0m\u001b[0m_fp\u001b[0m\u001b[0;34m.\u001b[0m\u001b[0m_safe_read\u001b[0m\u001b[0;34m(\u001b[0m\u001b[0;36m2\u001b[0m\u001b[0;34m)\u001b[0m  \u001b[0;31m# Toss the CRLF at the end of the chunk.\u001b[0m\u001b[0;34m\u001b[0m\u001b[0m\n\u001b[1;32m    555\u001b[0m             \u001b[0mself\u001b[0m\u001b[0;34m.\u001b[0m\u001b[0mchunk_left\u001b[0m \u001b[0;34m=\u001b[0m \u001b[0mNone\u001b[0m\u001b[0;34m\u001b[0m\u001b[0m\n",
      "\u001b[0;32m/System/Library/Frameworks/Python.framework/Versions/2.7/lib/python2.7/httplib.pyc\u001b[0m in \u001b[0;36m_safe_read\u001b[0;34m(self, amt)\u001b[0m\n\u001b[1;32m    701\u001b[0m         \u001b[0ms\u001b[0m \u001b[0;34m=\u001b[0m \u001b[0;34m[\u001b[0m\u001b[0;34m]\u001b[0m\u001b[0;34m\u001b[0m\u001b[0m\n\u001b[1;32m    702\u001b[0m         \u001b[0;32mwhile\u001b[0m \u001b[0mamt\u001b[0m \u001b[0;34m>\u001b[0m \u001b[0;36m0\u001b[0m\u001b[0;34m:\u001b[0m\u001b[0;34m\u001b[0m\u001b[0m\n\u001b[0;32m--> 703\u001b[0;31m             \u001b[0mchunk\u001b[0m \u001b[0;34m=\u001b[0m \u001b[0mself\u001b[0m\u001b[0;34m.\u001b[0m\u001b[0mfp\u001b[0m\u001b[0;34m.\u001b[0m\u001b[0mread\u001b[0m\u001b[0;34m(\u001b[0m\u001b[0mmin\u001b[0m\u001b[0;34m(\u001b[0m\u001b[0mamt\u001b[0m\u001b[0;34m,\u001b[0m \u001b[0mMAXAMOUNT\u001b[0m\u001b[0;34m)\u001b[0m\u001b[0;34m)\u001b[0m\u001b[0;34m\u001b[0m\u001b[0m\n\u001b[0m\u001b[1;32m    704\u001b[0m             \u001b[0;32mif\u001b[0m \u001b[0;32mnot\u001b[0m \u001b[0mchunk\u001b[0m\u001b[0;34m:\u001b[0m\u001b[0;34m\u001b[0m\u001b[0m\n\u001b[1;32m    705\u001b[0m                 \u001b[0;32mraise\u001b[0m \u001b[0mIncompleteRead\u001b[0m\u001b[0;34m(\u001b[0m\u001b[0;34m''\u001b[0m\u001b[0;34m.\u001b[0m\u001b[0mjoin\u001b[0m\u001b[0;34m(\u001b[0m\u001b[0ms\u001b[0m\u001b[0;34m)\u001b[0m\u001b[0;34m,\u001b[0m \u001b[0mamt\u001b[0m\u001b[0;34m)\u001b[0m\u001b[0;34m\u001b[0m\u001b[0m\n",
      "\u001b[0;31mAttributeError\u001b[0m: 'NoneType' object has no attribute 'read'"
     ]
    }
   ],
   "source": [
    "stream_sample(radio_stream)"
   ]
  },
  {
   "cell_type": "code",
   "execution_count": 32,
   "metadata": {
    "collapsed": false
   },
   "outputs": [
    {
     "data": {
      "text/plain": [
       "[('Kathy', -0.22063075609044483),\n",
       " ('Joe', -0.32511116851104532),\n",
       " ('David', -0.20578142969093302)]"
      ]
     },
     "execution_count": 32,
     "metadata": {},
     "output_type": "execute_result"
    }
   ],
   "source": [
    "test_model(mods,path=\"/Users/drbh/speaker_detection/stream.wav\")"
   ]
  },
  {
   "cell_type": "code",
   "execution_count": 38,
   "metadata": {
    "collapsed": false
   },
   "outputs": [
    {
     "data": {
      "text/plain": [
       "[('Kathy', -0.22063075609044483),\n",
       " ('Joe', -0.32511116851104532),\n",
       " ('David', -0.20578142969093302)]"
      ]
     },
     "execution_count": 38,
     "metadata": {},
     "output_type": "execute_result"
    }
   ],
   "source": [
    "test_model(mods,path=\"/Users/drbh/speaker_detection/stream.wav\")"
   ]
  },
  {
   "cell_type": "code",
   "execution_count": 517,
   "metadata": {
    "collapsed": false
   },
   "outputs": [
    {
     "data": {
      "image/png": "[encoded data removed]",
      "text/plain": [
       "<matplotlib.figure.Figure at 0x11156c690>"
      ]
     },
     "metadata": {},
     "output_type": "display_data"
    }
   ],
   "source": [
    "spf = wave.open('/Users/drbh/speaker_detection/stream.wav','r')\n",
    "fs = spf.getframerate()\n",
    "signal = spf.readframes(-1)\n",
    "signal = np.fromstring(signal, 'Int16') * 3\n",
    "plot_wav(signal)"
   ]
  },
  {
   "cell_type": "code",
   "execution_count": 72,
   "metadata": {
    "collapsed": false
   },
   "outputs": [
    {
     "name": "stdout",
     "output_type": "stream",
     "text": [
      "[(5120, 48128), (51200, 92160), (93184, 146432), (147456, 150528), (151552, 169984), (172032, 248832), (249856, 282624), (285696, 318464), (321536, 340992), (388096, 392192), (437248, 478208), (479232, 497664), (498688, 516096), (521216, 537600)] 542720\n",
      "After removed: 543744 -> 417792\n",
      "Enroll: 13.0560 seconds\n"
     ]
    },
    {
     "data": {
      "text/plain": [
       "(32000, array([ -15,  -15,  -12, ..., 2232, 2109, 2031], dtype=int16))"
      ]
     },
     "execution_count": 72,
     "metadata": {},
     "output_type": "execute_result"
    }
   ],
   "source": [
    "check_vad(fs, signal)"
   ]
  },
  {
   "cell_type": "code",
   "execution_count": 79,
   "metadata": {
    "collapsed": false
   },
   "outputs": [],
   "source": [
    "xyz = ModelInterface()"
   ]
  },
  {
   "cell_type": "code",
   "execution_count": 82,
   "metadata": {
    "collapsed": false
   },
   "outputs": [
    {
     "name": "stdout",
     "output_type": "stream",
     "text": [
      "Start training...\n",
      "0.243736982346  seconds\n"
     ]
    }
   ],
   "source": [
    "xyz.enroll(\"Unknown\", fs, signal)\n",
    "xyz.train()"
   ]
  },
  {
   "cell_type": "code",
   "execution_count": 84,
   "metadata": {
    "collapsed": false
   },
   "outputs": [
    {
     "name": "stdout",
     "output_type": "stream",
     "text": [
      "1 Unknown 3183\n"
     ]
    }
   ],
   "source": [
    "see_model(xyz)"
   ]
  },
  {
   "cell_type": "code",
   "execution_count": 88,
   "metadata": {
    "collapsed": false
   },
   "outputs": [
    {
     "data": {
      "text/plain": [
       "[('Unknown', -0.5572814200302002)]"
      ]
     },
     "execution_count": 88,
     "metadata": {},
     "output_type": "execute_result"
    }
   ],
   "source": [
    "test_model(xyz,path=\"/Users/drbh/speaker_detection/stream.wav\")"
   ]
  },
  {
   "cell_type": "code",
   "execution_count": 63,
   "metadata": {
    "collapsed": false
   },
   "outputs": [
    {
     "name": "stdout",
     "output_type": "stream",
     "text": [
      "-0.185640669138\n",
      "15674\n",
      "-12064\n",
      "-100941\n"
     ]
    }
   ],
   "source": [
    "print signal.mean()\n",
    "print signal.max()\n",
    "print signal.min()\n",
    "print signal.sum()"
   ]
  },
  {
   "cell_type": "code",
   "execution_count": 58,
   "metadata": {
    "collapsed": false
   },
   "outputs": [
    {
     "name": "stdout",
     "output_type": "stream",
     "text": [
      "[(5120, 519168)] 524288\n",
      "After removed: 525600 -> 514048\n",
      "Enroll: 11.6564 seconds\n"
     ]
    },
    {
     "data": {
      "text/plain": [
       "(44100,\n",
       " array([-16478,     62, -16479, ...,   -672, -12532,   -672], dtype=int16))"
      ]
     },
     "execution_count": 58,
     "metadata": {},
     "output_type": "execute_result"
    }
   ],
   "source": [
    "spf = wave.open('/Users/drbh/speaker_detection/People/David/20161228-214054.wav','r')\n",
    "fs = spf.getframerate()\n",
    "signal = spf.readframes(-1)\n",
    "signal = np.fromstring(signal, 'Int16')\n",
    "check_vad(fs, signal)"
   ]
  },
  {
   "cell_type": "code",
   "execution_count": 59,
   "metadata": {
    "collapsed": false
   },
   "outputs": [
    {
     "name": "stdout",
     "output_type": "stream",
     "text": [
      "-103.23598554\n",
      "32767\n",
      "-32768\n",
      "-54260834\n"
     ]
    }
   ],
   "source": [
    "print signal.mean()\n",
    "print signal.max()\n",
    "print signal.min()\n",
    "print signal.sum()"
   ]
  },
  {
   "cell_type": "code",
   "execution_count": 520,
   "metadata": {
    "collapsed": false
   },
   "outputs": [
    {
     "ename": "ImportError",
     "evalue": "No module named display.display",
     "output_type": "error",
     "traceback": [
      "\u001b[0;31m---------------------------------------------------------------------------\u001b[0m",
      "\u001b[0;31mImportError\u001b[0m                               Traceback (most recent call last)",
      "\u001b[0;32m<ipython-input-520-0a0177427909>\u001b[0m in \u001b[0;36m<module>\u001b[0;34m()\u001b[0m\n\u001b[1;32m      4\u001b[0m \u001b[0;32mimport\u001b[0m \u001b[0mwave\u001b[0m\u001b[0;34m\u001b[0m\u001b[0m\n\u001b[1;32m      5\u001b[0m \u001b[0;32mimport\u001b[0m \u001b[0msys\u001b[0m\u001b[0;34m\u001b[0m\u001b[0m\n\u001b[0;32m----> 6\u001b[0;31m \u001b[0;32mimport\u001b[0m \u001b[0mdisplay\u001b[0m\u001b[0;34m.\u001b[0m\u001b[0mdisplay\u001b[0m\u001b[0;34m\u001b[0m\u001b[0m\n\u001b[0m\u001b[1;32m      7\u001b[0m \u001b[0;34m\u001b[0m\u001b[0m\n\u001b[1;32m      8\u001b[0m \u001b[0;32mdef\u001b[0m \u001b[0mplot_wav\u001b[0m\u001b[0;34m(\u001b[0m\u001b[0msignal\u001b[0m\u001b[0;34m)\u001b[0m\u001b[0;34m:\u001b[0m\u001b[0;34m\u001b[0m\u001b[0m\n",
      "\u001b[0;31mImportError\u001b[0m: No module named display.display"
     ]
    }
   ],
   "source": [
    "%matplotlib inline\n",
    "import matplotlib.pyplot as plt\n",
    "import numpy as np\n",
    "import wave\n",
    "import sys\n",
    "\n",
    "\n",
    "def plot_wav(signal):\n",
    "    plt.title('Wave...')\n",
    "    plt.plot(signal)\n",
    "    \n",
    "def subst_wav(fs, signal, start=1000,seconds=5):\n",
    "    end = (seconds * fs ) + start\n",
    "    return signal[start:end]\n",
    "\n",
    "def sub_and_plot(fs,signal,start,seconds):\n",
    "    subset = subst_wav(fs,signal,start,seconds)\n",
    "    plot_wav(subset)"
   ]
  },
  {
   "cell_type": "code",
   "execution_count": 518,
   "metadata": {
    "collapsed": false
   },
   "outputs": [
    {
     "ename": "NameError",
     "evalue": "name 'display' is not defined",
     "output_type": "error",
     "traceback": [
      "\u001b[0;31m---------------------------------------------------------------------------\u001b[0m",
      "\u001b[0;31mNameError\u001b[0m                                 Traceback (most recent call last)",
      "\u001b[0;32m<ipython-input-518-23065dc4692f>\u001b[0m in \u001b[0;36m<module>\u001b[0;34m()\u001b[0m\n\u001b[1;32m      7\u001b[0m     \u001b[0mplt\u001b[0m\u001b[0;34m.\u001b[0m\u001b[0mgca\u001b[0m\u001b[0;34m(\u001b[0m\u001b[0;34m)\u001b[0m\u001b[0;34m.\u001b[0m\u001b[0mcla\u001b[0m\u001b[0;34m(\u001b[0m\u001b[0;34m)\u001b[0m\u001b[0;34m\u001b[0m\u001b[0m\n\u001b[1;32m      8\u001b[0m     \u001b[0msub_and_plot\u001b[0m\u001b[0;34m(\u001b[0m\u001b[0mfs\u001b[0m\u001b[0;34m,\u001b[0m\u001b[0msignal\u001b[0m\u001b[0;34m,\u001b[0m\u001b[0mi\u001b[0m\u001b[0;34m*\u001b[0m\u001b[0;36m10000\u001b[0m\u001b[0;34m,\u001b[0m\u001b[0;36m10\u001b[0m\u001b[0;34m)\u001b[0m\u001b[0;34m\u001b[0m\u001b[0m\n\u001b[0;32m----> 9\u001b[0;31m     \u001b[0mdisplay\u001b[0m\u001b[0;34m.\u001b[0m\u001b[0mclear_output\u001b[0m\u001b[0;34m(\u001b[0m\u001b[0mwait\u001b[0m\u001b[0;34m=\u001b[0m\u001b[0mTrue\u001b[0m\u001b[0;34m)\u001b[0m\u001b[0;34m\u001b[0m\u001b[0m\n\u001b[0m\u001b[1;32m     10\u001b[0m     \u001b[0mdisplay\u001b[0m\u001b[0;34m.\u001b[0m\u001b[0mdisplay\u001b[0m\u001b[0;34m(\u001b[0m\u001b[0mplt\u001b[0m\u001b[0;34m.\u001b[0m\u001b[0mgcf\u001b[0m\u001b[0;34m(\u001b[0m\u001b[0;34m)\u001b[0m\u001b[0;34m)\u001b[0m\u001b[0;34m\u001b[0m\u001b[0m\n\u001b[1;32m     11\u001b[0m     \u001b[0mtime\u001b[0m\u001b[0;34m.\u001b[0m\u001b[0msleep\u001b[0m\u001b[0;34m(\u001b[0m\u001b[0;36m.05\u001b[0m\u001b[0;34m)\u001b[0m\u001b[0;34m\u001b[0m\u001b[0m\n",
      "\u001b[0;31mNameError\u001b[0m: name 'display' is not defined"
     ]
    },
    {
     "data": {
      "image/png": "[encoded data removed]",
      "text/plain": [
       "<matplotlib.figure.Figure at 0x11179b290>"
      ]
     },
     "metadata": {},
     "output_type": "display_data"
    }
   ],
   "source": [
    "spf = wave.open('/Users/drbh/speaker_detection/stream.wav','r')\n",
    "fs = spf.getframerate()\n",
    "signal = spf.readframes(-1)\n",
    "signal = np.fromstring(signal, 'Int16')\n",
    "# subst_wav(fs,signal,0,10)\n",
    "for i in range(100):\n",
    "    plt.gca().cla() \n",
    "    sub_and_plot(fs,signal,i*10000,10)\n",
    "    display.clear_output(wait=True)\n",
    "    display.display(plt.gcf())\n",
    "    time.sleep(.05)\n",
    "display.clear_output(wait=True)"
   ]
  },
  {
   "cell_type": "code",
   "execution_count": null,
   "metadata": {
    "collapsed": true
   },
   "outputs": [],
   "source": []
  },
  {
   "cell_type": "code",
   "execution_count": null,
   "metadata": {
    "collapsed": true
   },
   "outputs": [],
   "source": [
    "def sum(a, b):\n",
    "    return a + b\n",
    "\n",
    "values = (1, 2)\n",
    "\n",
    "s = sum(*values)"
   ]
  },
  {
   "cell_type": "code",
   "execution_count": null,
   "metadata": {
    "collapsed": false
   },
   "outputs": [],
   "source": [
    "read_wav(\"\")"
   ]
  },
  {
   "cell_type": "code",
   "execution_count": null,
   "metadata": {
    "collapsed": false
   },
   "outputs": [],
   "source": [
    "test_model(mods,path=\"/Users/drbh/speaker_detection/stream.wav\")"
   ]
  },
  {
   "cell_type": "code",
   "execution_count": 442,
   "metadata": {
    "collapsed": false
   },
   "outputs": [
    {
     "name": "stdout",
     "output_type": "stream",
     "text": [
      "total 39080\r\n",
      "drwxr-xr-x  22 drbh  staff   748B Dec 28 21:41 \u001b[34m.\u001b[m\u001b[m\r\n",
      "drwxr-xr-x   8 drbh  staff   272B Dec 28 21:39 \u001b[34m..\u001b[m\u001b[m\r\n",
      "-rw-r--r--@  1 drbh  staff   6.0K Dec 28 21:40 .DS_Store\r\n",
      "-rw-r--r--   1 drbh  staff   1.0M Dec 28 21:40 20161228-214054.wav\r\n",
      "-rw-r--r--   1 drbh  staff   1.0M Dec 28 21:41 20161228-214057.wav\r\n",
      "-rw-r--r--   1 drbh  staff   1.0M Dec 28 21:41 20161228-214100.wav\r\n",
      "-rw-r--r--   1 drbh  staff   1.0M Dec 28 21:41 20161228-214103.wav\r\n",
      "-rw-r--r--   1 drbh  staff   1.0M Dec 28 21:41 20161228-214106.wav\r\n",
      "-rw-r--r--   1 drbh  staff   1.0M Dec 28 21:41 20161228-214109.wav\r\n",
      "-rw-r--r--   1 drbh  staff   1.0M Dec 28 21:41 20161228-214113.wav\r\n",
      "-rw-r--r--   1 drbh  staff   1.0M Dec 28 21:41 20161228-214116.wav\r\n",
      "-rw-r--r--   1 drbh  staff   1.0M Dec 28 21:41 20161228-214119.wav\r\n",
      "-rw-r--r--   1 drbh  staff   1.0M Dec 28 21:41 20161228-214122.wav\r\n",
      "-rw-r--r--   1 drbh  staff   1.0M Dec 28 21:41 20161228-214125.wav\r\n",
      "-rw-r--r--   1 drbh  staff   1.0M Dec 28 21:41 20161228-214128.wav\r\n",
      "-rw-r--r--   1 drbh  staff   1.0M Dec 28 21:41 20161228-214131.wav\r\n",
      "-rw-r--r--   1 drbh  staff   1.0M Dec 28 21:41 20161228-214134.wav\r\n",
      "-rw-r--r--   1 drbh  staff   1.0M Dec 28 21:41 20161228-214137.wav\r\n",
      "-rw-r--r--   1 drbh  staff   1.0M Dec 28 21:41 20161228-214141.wav\r\n",
      "-rw-r--r--   1 drbh  staff   1.0M Dec 28 21:41 20161228-214144.wav\r\n",
      "-rw-r--r--   1 drbh  staff   1.0M Dec 28 21:41 20161228-214147.wav\r\n",
      "-rw-r--r--   1 drbh  staff   1.0M Dec 28 21:41 20161228-214150.wav\r\n"
     ]
    }
   ],
   "source": [
    "!ls -lah ./People/David"
   ]
  },
  {
   "cell_type": "code",
   "execution_count": 249,
   "metadata": {
    "collapsed": false
   },
   "outputs": [
    {
     "name": "stdout",
     "output_type": "stream",
     "text": [
      "-1.0\n",
      "-0.0155403348554\n",
      "1.0\n"
     ]
    }
   ],
   "source": []
  },
  {
   "cell_type": "code",
   "execution_count": 321,
   "metadata": {
    "collapsed": false
   },
   "outputs": [],
   "source": [
    "import operator\n",
    "\n",
    "def test(fs,signal,model):\n",
    "    mods = model\n",
    "    feat = mix_feature((fs, signal))\n",
    "    x = feat\n",
    "    scores = [mods.gmmset.gmm_score(gmm, x) / len(x) for gmm in mods.gmmset.gmms]\n",
    "    p = sorted(enumerate(scores), key=operator.itemgetter(1), reverse=True)\n",
    "    p = [(str(mods.gmmset.y[i]), y, p[0][1] - y) for i, y in p]\n",
    "    result = [(mods.gmmset.y[index], value) for (index, value) in enumerate(scores)]\n",
    "    p = max(result, key=operator.itemgetter(1))\n",
    "    \n",
    "    return p#,feat.min(),feat.mean(),feat.max()"
   ]
  },
  {
   "cell_type": "code",
   "execution_count": 126,
   "metadata": {
    "collapsed": false
   },
   "outputs": [
    {
     "data": {
      "text/plain": [
       "<matplotlib.text.Text at 0x10fc3a9d0>"
      ]
     },
     "execution_count": 126,
     "metadata": {},
     "output_type": "execute_result"
    },
    {
     "data": {
      "image/png": "[encoded data removed]",
      "text/plain": [
       "<matplotlib.figure.Figure at 0x110374ed0>"
      ]
     },
     "metadata": {},
     "output_type": "display_data"
    },
    {
     "data": {
      "image/png": "[encoded data removed]",
      "text/plain": [
       "<matplotlib.figure.Figure at 0x11121a2d0>"
      ]
     },
     "metadata": {},
     "output_type": "display_data"
    }
   ],
   "source": [
    "plt.hist(s1,bins=100,cumulative=True)\n",
    "plt.title(\"s1\")\n",
    "# plt.hist(s2,bins=100)\n",
    "# plt.hist(s3,bins=100)\n",
    "plt.figure()\n",
    "plt.hist(s4,bins=100,cumulative=True)\n",
    "plt.title(\"s4\")"
   ]
  },
  {
   "cell_type": "code",
   "execution_count": 180,
   "metadata": {
    "collapsed": false
   },
   "outputs": [
    {
     "data": {
      "text/plain": [
       "(-2147483648, -10255427.256354643, 2147093246)"
      ]
     },
     "execution_count": 180,
     "metadata": {},
     "output_type": "execute_result"
    }
   ],
   "source": [
    "def nomalize_wav(signal):\n",
    "    signal = signal / 2**15\n",
    "    print signal.min()\n",
    "    print signal.mean()\n",
    "    print signal.max()\n",
    "    return signal\n",
    "\n",
    "s1.min(),s1.mean(),s1.max()"
   ]
  },
  {
   "cell_type": "code",
   "execution_count": 240,
   "metadata": {
    "collapsed": true
   },
   "outputs": [
    {
     "name": "stdout",
     "output_type": "stream",
     "text": [
      "[ 1.  1.  1.  1.  1.  1.  1.  1.  1.  1.  1.  1.  1.  1.  1.  1.  1.  1.\n",
      "  1.  1.  1.  1.  1.  1.  1.  1.  1.  1.  1.  1.  1.  1.  1.  1.  1.  1.\n",
      "  1.  1.  1.  1.  1.  1.  1.  1.  1.  1.  1.  1.  1.  1.  1.  1.  1.  1.\n",
      "  1.  1.  1.  1.  1.  1.  1.  1.  1.  1.  1.  1.  1.  1.  1.  1.  1.  1.\n",
      "  1.  1.  1.  1.  1.  1.  1.  1.  1.  1.  1.  1.  1.  1.  1.  1.  1.  1.\n",
      "  1.  1.  1.  1.  1.  1.  1.  1.  1.  1.  1.  1.  1.  1.  1.  1.  1.  1.\n",
      "  1.  1.  1.  1.  1.  1.  1.  1.  1.  1.  1.  1.  1.  1.  1.  1.  1.  1.\n",
      "  1.  1.  1.  1.  1.  1.  1.  1.  1.  1.  1.  1.  1.  1.  1.  1.  1.  1.\n",
      "  1.  1.  1.  1.  1.  1.  1.  1.  1.  1.  1.  1.  1.  1.  1.  1.  1.  1.\n",
      "  1.  1.  1.  1.  1.  1.  1.  1.  1.  1.  1.  1.  1.  1.  1.  1.  1.  1.\n",
      "  1.  1.  1.  1.  1.  1.  1.  1.  1.  1.  1.  1.  1.  1.  1.  1.  1.  1.\n",
      "  1.  1.  1.  1.  1.  1.  1.  1.  1.  1.  1.  1.  1.  1.  1.  1.  1.  1.\n",
      "  1.  1.  1.  1.  1.  1.  1.  1.  1.  1.  1.  1.  1.  1.  1.  1.  1.  1.\n",
      "  1.  1.  1.  1.  1.  1.  1.  1.  1.  1.  1.  1.  1.  1.  1.  1.  1.  1.\n",
      "  1.  1.  1.  1.  1.  1.  1.  1.  1.  1.  1.  1.  1.  1.  1.  1.  1.  1.\n",
      "  1.  1.  1.  1.  1.  1.  1.  1.  1.  1.  1.  1.  1.  1.  1.  1.  1.  1.\n",
      "  1.  1.  1.  1.  1.  1.  1.  1.  1.  1.  1.  1.  1.  1.  1.  1.  1.  1.\n",
      "  1.  1.  1.  1.  1.  1.  1.  1.  1.  1.  1.  1.  1.  1.  1.  1.  1.  1.\n",
      "  1.  1.  1.  1.  1.  1.  1.  1.  1.  1.  1.  1.  1.  1.  1.  1.  1.  1.\n",
      "  1.  1.  1.  1.  1.  1.  1.  1.  1.  1.  1.  1.  1.  1.  1.  1.  1.  1.\n",
      "  1.  1.  1.  1.  1.  1.  1.  1.  1.  1.  1.  1.  1.  1.  1.  1.  1.  1.\n",
      "  1.  1.  1.  1.  1.  1.  1.  1.  1.  1.  1.  1.  1.  1.  1.  1.  1.  1.\n",
      "  1.  1.  1.  1.  1.  1.  1.  1.  1.  1.  1.  1.  1.  1.  1.  1.  1.  1.\n",
      "  1.  1.  1.  1.  1.  1.  1.  1.  1.  1.  1.  1.  1.  1.  1.  1.  1.  1.\n",
      "  1.  1.  1.  1.  1.  1.  1.  1.  1.  1.  1.  1.  1.  1.  1.  1.  1.  1.\n",
      "  1.  1.  1.  1.  1.  1.  1.  1.  1.  1.  1.  1.  1.  1.  1.  1.  1.  1.\n",
      "  1.  1.  1.  1.  1.  1.  1.  1.  1.  1.  1.  1.  1.  1.  1.  1.  1.  1.\n",
      "  1.  1.  1.  1.  1.  1.  1.  1.  1.  1.  1.  1.  1.  1.  1.  1.  1.  1.\n",
      "  1.  1.  1.  1.  1.  1.  1.  1.  1.  1.  1.  1.  1.  1.  1.  1.  1.  1.\n",
      "  1.  1.  1.  1.  1.  1.  1.  1.  1.  1.  1.  1.  1.  1.  1.  1.  1.  1.\n",
      "  1.  1.  1.  1.  1.  1.  1.  1.  1.  1.  1.  1.  1.  1.  1.  1.  1.  1.\n",
      "  1.  1.  1.  1.  1.  1.  1.  1.  1.  1.  1.  1.  1.  1.  1.  1.  1.  1.\n",
      "  1.  1.  1.  1.  1.  1.  1.  1.  1.  1.  1.  1.  1.  1.  1.  1.  1.  1.\n",
      "  1.  1.  1.  1.  1.  1.  1.  1.  1.  1.  1.  1.  1.  1.  1.  1.  1.  1.\n",
      "  1.  1.  1.  1.  1.  1.  1.  1.  1.  1.  1.  1.  1.  1.  1.  1.  1.  1.\n",
      "  1.  1.  1.  1.  1.  1.  1.  1.  1.  1.  1.  1.  1.  1.  1.  1.  1.  1.\n",
      "  1.  1.  1.  1.  1.  1.  1.  1.  1.  1.  1.  1.  1.  1.  1.  1.  1.  1.\n",
      "  1.  1.  1.  1.  1.  1.  1.  1.  1.  1.  1.  1.  1.  1.  1.  1.  1.  1.\n",
      "  1.  1.  1.  1.  1.  1.  1.  1.  1.  1.  1.  1.  1.  1.  1.  1.  1.  1.\n",
      "  1.  1.  1.  1.  1.  1.  1.  1.  1.  1.  1.  1.  1.  1.  1.  1.  1.  1.\n",
      "  1.  1.  1.  1.  1.  1.  1.  1.  1.  1.  1.  1.  1.  1.  1.  1.  1.  1.\n",
      "  1.  1.  1.  1.  1.  1.  1.  1.  1.  1.  1.  1.  1.  1.  1.  1.  1.  1.\n",
      "  1.  1.  1.  1.  1.  1.  1.  1.  1.  1.  1.  1.  1.  1.  1.  1.  1.  1.\n",
      "  1.  1.  1.  1.  1.  1.  1.  1.  1.  1.  1.  1.  1.  1.  1.  1.  1.  1.\n",
      "  1.  1.  1.  1.  1.  1.  1.  1.  1.  1.  1.  1.  1.  1.  1.  1.  1.  1.\n",
      "  1.  1.  1.  1.  1.  1.  1.  1.  1.  1.  1.  1.  1.  1.  1.  1.  1.  1.\n",
      "  1.  1.  1.  1.  1.  1.  1.  1.  1.  1.  1.  1.  1.  1.  1.  1.  1.  1.\n",
      "  1.  1.  1.  1.  1.  1.  1.  1.  1.  1.  1.  1.  1.  1.  1.  1.  1.  1.\n",
      "  1.  1.  1.  1.  1.  1.  1.  1.  1.  1.  1.  1.  1.  1.  1.  1.  1.  1.\n",
      "  1.  1.  1.  1.  1.  1.  1.  1.  1.  1.  1.  1.  1.  1.  1.  1.  1.  1.\n",
      "  1.  1.  1.  1.  1.  1.  1.  1.  1.  1.  1.  1.  1.  1.  1.  1.  1.  1.\n",
      "  1.  1.  1.  1.  1.  1.  1.  1.  1.  1.  1.  1.  1.  1.  1.  1.  1.  1.\n",
      "  1.  1.  1.  1.  1.  1.  1.  1.  1.  1.  1.  1.  1.  1.  1.  1.  1.  1.\n",
      "  1.  1.  1.  1.  1.  1.  1.  1.  1.  1.  1.  1.  1.  1.  1.  1.  1.  1.\n",
      "  1.  1.  1.  1.  1.  1.  1.  1.  1.  1.  1.  1.  1.  1.  1.  1.  1.  1.\n",
      "  1.  1.  1.  1.  1.  1.  1.  1.  1.  1.]\n"
     ]
    }
   ],
   "source": [
    "from sklearn.preprocessing import normalize\n",
    "\n",
    "x = np.random.rand(1000)*10\n",
    "norm2 = normalize(x[:,np.newaxis], axis=1).ravel()\n",
    "print norm2"
   ]
  },
  {
   "cell_type": "code",
   "execution_count": 203,
   "metadata": {
    "collapsed": true
   },
   "outputs": [],
   "source": [
    "np.newaxis"
   ]
  },
  {
   "cell_type": "code",
   "execution_count": 199,
   "metadata": {
    "collapsed": false
   },
   "outputs": [],
   "source": [
    "e1 = x / np.linalg.norm(s1)"
   ]
  },
  {
   "cell_type": "code",
   "execution_count": 225,
   "metadata": {
    "collapsed": false
   },
   "outputs": [],
   "source": [
    "def namestr(obj, namespace):\n",
    "    return [name for name in namespace if namespace[name] is obj]"
   ]
  },
  {
   "cell_type": "markdown",
   "metadata": {},
   "source": [
    "# Testings Normalization"
   ]
  },
  {
   "cell_type": "code",
   "execution_count": 448,
   "metadata": {
    "collapsed": true
   },
   "outputs": [],
   "source": [
    "def nmlz(s):\n",
    "    signal = normalize(s[:,np.newaxis], axis=1).ravel()\n",
    "    return signal"
   ]
  },
  {
   "cell_type": "code",
   "execution_count": 503,
   "metadata": {
    "collapsed": false
   },
   "outputs": [],
   "source": [
    "f1, s1 = read_wav(\"/Users/drbh/speaker_detection/People/David/20161228-214054.wav\")\n",
    "f2, s2 = read_wav(\"/Users/drbh/speaker_detection/People/Kathy/20161228-202007.wav\")\n",
    "f3, s3 = read_wav(\"/Users/drbh/speaker_detection/People/David/20161228-214119.wav\")\n",
    "f4, s4 = read_wav(\"/Users/drbh/speaker_detection/stream.wav\")"
   ]
  },
  {
   "cell_type": "code",
   "execution_count": 504,
   "metadata": {
    "collapsed": false
   },
   "outputs": [],
   "source": [
    "e1 = nmlz(s1 * 3)\n",
    "\n",
    "e2 = nmlz(s2 * 3)\n",
    "\n",
    "e3 = nmlz(s3 * 3)\n",
    "\n",
    "e4 = nmlz(s4[:131400] * 3)\n"
   ]
  },
  {
   "cell_type": "code",
   "execution_count": 505,
   "metadata": {
    "collapsed": false
   },
   "outputs": [
    {
     "name": "stdout",
     "output_type": "stream",
     "text": [
      "/Users/drbh/speaker_detection/People/David/20161228-214141.wav\n",
      "[(5120, 124928)] 130048\n",
      "After removed: 131400 -> 119808\n",
      "Enroll: 2.7167 seconds\n",
      "/Users/drbh/speaker_detection/People/David/20161228-214119.wav\n",
      "[(5120, 124928)] 130048\n",
      "After removed: 131400 -> 119808\n",
      "Enroll: 2.7167 seconds\n",
      "Start training...\n",
      "0.029196023941  seconds\n"
     ]
    }
   ],
   "source": [
    "abc = ModelInterface()\n",
    "for p in [\"/Users/drbh/speaker_detection/People/David/20161228-214141.wav\",\n",
    "        \"/Users/drbh/speaker_detection/People/David/20161228-214119.wav\"]:\n",
    "    print p\n",
    "    fs, signal = read_wav(p)\n",
    "    # fs, signal = read_wav(\"/Users/drbh/speaker_detection/People/David/20161228-214119.wav\")\n",
    "    fs, signal = check_vad(fs, signal * 3 )\n",
    "    signal = nmlz(signal)\n",
    "    abc.enroll(\"ME\", fs, signal)\n",
    "abc.train()"
   ]
  },
  {
   "cell_type": "code",
   "execution_count": 506,
   "metadata": {
    "collapsed": false
   },
   "outputs": [
    {
     "name": "stdout",
     "output_type": "stream",
     "text": [
      "[(5120, 48128), (51200, 92160), (93184, 124928)] 130048\n",
      "After removed: 131400 -> 115712\n",
      "Enroll: 3.6160 seconds\n",
      "Start training...\n",
      "0.0430090427399  seconds\n"
     ]
    }
   ],
   "source": [
    "xyz = ModelInterface()\n",
    "fs, signal = read_wav(\"/Users/drbh/speaker_detection/stream.wav\")\n",
    "# fs, signal = read_wav(\"/Users/drbh/speaker_detection/People/David/20161228-214119.wav\")\n",
    "fs, signal = check_vad(fs, signal[:131400] * 3 )\n",
    "signal = nmlz(signal)\n",
    "xyz.enroll(\"Unknown\", fs, signal)\n",
    "xyz.train()"
   ]
  },
  {
   "cell_type": "code",
   "execution_count": 507,
   "metadata": {
    "collapsed": false
   },
   "outputs": [
    {
     "name": "stdout",
     "output_type": "stream",
     "text": [
      "ABC - ME\n",
      "nmlz   ME ('ME', -54.603023764029736) False\n",
      "nmlz   KATHY ('ME', -60.837492383085326) False\n",
      "nmlz   ME ('ME', -44.412438781513863) False\n",
      "nmlz   STREAM ('ME', -35.349377026399111) False\n",
      "   \n",
      "XYZ - STREAM\n",
      "nmlz   ME ('Unknown', -389.94760256319375) False\n",
      "nmlz   KATHY ('Unknown', -374.28688609700481) False\n",
      "nmlz   ME ('Unknown', -148.68234622983505) False\n",
      "nmlz   STREAM ('Unknown', -64.884644569479434) False\n"
     ]
    }
   ],
   "source": [
    "print \"ABC - ME\"\n",
    "print \"nmlz   ME\", test(f1, e1, abc), test(f1, e1, abc)[1] > -.2\n",
    "print \"nmlz   KATHY\", test(f2, e2, abc), test(f2, e2, abc)[1] > -.2\n",
    "print \"nmlz   ME\", test(f3, e3, abc), test(f3, e3, abc)[1] > -.2\n",
    "print \"nmlz   STREAM\", test(f4, e4, abc), test(f4, e4, abc)[1] > -.2\n",
    "print \"   \"\n",
    "print \"XYZ - STREAM\"\n",
    "print \"nmlz   ME\", test(f1, e1, xyz), test(f1, e1, xyz)[1] > -.2\n",
    "print \"nmlz   KATHY\", test(f2, e2, xyz), test(f2, e2, xyz)[1] > -.2\n",
    "print \"nmlz   ME\", test(f3, e3, xyz), test(f3, e3, xyz)[1] > -.2\n",
    "print \"nmlz   STREAM\", test(f4, e4, xyz), test(f4, e4, xyz)[1] > -.2"
   ]
  },
  {
   "cell_type": "code",
   "execution_count": 508,
   "metadata": {
    "collapsed": false,
    "scrolled": true
   },
   "outputs": [
    {
     "name": "stdout",
     "output_type": "stream",
     "text": [
      "1 ME 336\n"
     ]
    }
   ],
   "source": [
    "# mods = mods.load(\"./model.out\")\n",
    "see_model(abc)"
   ]
  },
  {
   "cell_type": "code",
   "execution_count": 509,
   "metadata": {
    "collapsed": false
   },
   "outputs": [
    {
     "name": "stdout",
     "output_type": "stream",
     "text": [
      "1 Unknown 225\n"
     ]
    }
   ],
   "source": [
    "see_model(xyz)"
   ]
  },
  {
   "cell_type": "code",
   "execution_count": 1,
   "metadata": {
    "collapsed": false
   },
   "outputs": [
    {
     "name": "stdout",
     "output_type": "stream",
     "text": [
      "\n",
      "Please wait a moment while I gather a list of all available modules...\n",
      "\n"
     ]
    },
    {
     "name": "stderr",
     "output_type": "stream",
     "text": [
      "/Users/drbh/speak/lib/python2.7/site-packages/IPython/kernel/__init__.py:13: ShimWarning: The `IPython.kernel` package has been deprecated. You should import from ipykernel or jupyter_client instead.\n",
      "  \"You should import from ipykernel or jupyter_client instead.\", ShimWarning)\n",
      "/Users/drbh/speak/lib/python2.7/site-packages/matplotlib/cbook.py:137: MatplotlibDeprecationWarning: The matplotlib.delaunay module was deprecated in version 1.4. Use matplotlib.tri.Triangulation instead.\n",
      "  warnings.warn(message, mplDeprecation, stacklevel=1)\n"
     ]
    },
    {
     "name": "stdout",
     "output_type": "stream",
     "text": [
      "Audio_mac           _ssl                gestalt             random\n",
      "BaseHTTPServer      _strptime           getopt              re\n",
      "Bastion             _struct             getpass             readline\n",
      "CGIHTTPServer       _symtable           gettext             repr\n",
      "Canvas              _sysconfigdata      glob                requests\n",
      "Carbon              _testcapi           grp                 resource\n",
      "CodeWarrior         _threading_local    gzip                rexec\n",
      "ColorPicker         _tkinter            hashlib             rfc822\n",
      "ConfigParser        _warnings           heapq               rlcompleter\n",
      "Cookie              _weakref            hmac                rmagic\n",
      "Dialog              _weakrefset         hotshot             robotparser\n",
      "DocXMLRPCServer     abc                 htmlentitydefs      runpy\n",
      "EasyDialogs         aepack              htmllib             sched\n",
      "Explorer            aetools             httplib             scikits\n",
      "FileDialog          aetypes             ic                  scipy\n",
      "Finder              aifc                icglue              select\n",
      "FixTk               antigravity         icopen              sets\n",
      "FrameWork           anydbm              idlelib             setuptools\n",
      "HTMLParser          applesingle         ihooks              sgmllib\n",
      "IN                  appletrawmain       imageop             sha\n",
      "IPython             appletrunner        imaplib             shelve\n",
      "MacOS               appnope             imghdr              shlex\n",
      "MimeWriter          argparse            imp                 shutil\n",
      "MiniAEFrame         argvemulator        importlib           shutil_backports\n",
      "Nav                 array               imputil             signal\n",
      "Netscape            ast                 inspect             simplegeneric\n",
      "OSATerminology      asynchat            io                  singledispatch\n",
      "PixMapWrapper       asyncore            ipykernel           singledispatch_helpers\n",
      "Queue               atexit              ipython_genutils    site\n",
      "ScrolledText        audiodev            itertools           six\n",
      "SimpleDialog        audioop             json                sklearn\n",
      "SimpleHTTPServer    autoGIL             jupyter             smtpd\n",
      "SimpleXMLRPCServer  autoreload          jupyter_client      smtplib\n",
      "SocketServer        backports           jupyter_core        sndhdr\n",
      "StdSuites           backports_abc       keyword             socket\n",
      "StringIO            base64              lib2to3             sqlite3\n",
      "SystemEvents        bdb                 linecache           sre\n",
      "Tix                 bgenlocations       locale              sre_compile\n",
      "Tkconstants         binascii            logging             sre_constants\n",
      "Tkdnd               binhex              macerrors           sre_parse\n",
      "Tkinter             bisect              macostools          ssl\n",
      "UserDict            bob                 macpath             stat\n",
      "UserList            bs4                 macresource         statvfs\n",
      "UserString          bsddb               macurl2path         storemagic\n",
      "_AE                 bsddb185            mailbox             string\n",
      "_AH                 buildtools          mailcap             stringold\n",
      "_App                bundlebuilder       markupbase          stringprep\n",
      "_CF                 bz2                 marshal             strop\n",
      "_CG                 cPickle             math                struct\n",
      "_CarbonEvt          cProfile            matplotlib          subprocess\n",
      "_Cm                 cStringIO           md5                 sunau\n",
      "_Ctl                calendar            mhlib               sunaudio\n",
      "_Dlg                certifi             mimetools           symbol\n",
      "_Drag               cfmfile             mimetypes           sympyprinting\n",
      "_Evt                cgi                 mimify              symtable\n",
      "_File               cgitb               mmap                sys\n",
      "_Fm                 chunk               modulefinder        sysconfig\n",
      "_Folder             cmath               multifile           syslog\n",
      "_Help               cmd                 multiprocessing     tabnanny\n",
      "_IBCarbon           code                mutex               tarfile\n",
      "_Icn                codecs              netrc               telnetlib\n",
      "_LWPCookieJar       codeop              new                 tempfile\n",
      "_Launch             collections         nis                 terminalcommand\n",
      "_List               colorsys            nntplib             termios\n",
      "_Menu               commands            ntpath              test\n",
      "_Mlte               compileall          nturl2path          tests\n",
      "_MozillaCookieJar   compiler            numbers             textwrap\n",
      "_OSA                contextlib          numpy               this\n",
      "_Qd                 control             opcode              thread\n",
      "_Qdoffs             cookielib           operator            threading\n",
      "_Qt                 copy                optparse            time\n",
      "_Res                copy_reg            os                  timeit\n",
      "_Scrap              crypt               os2emxpath          tkColorChooser\n",
      "_Snd                csv                 parser              tkCommonDialog\n",
      "_TE                 ctypes              pathlib2            tkFileDialog\n",
      "_Win                curses              pdb                 tkFont\n",
      "__builtin__         cycler              pexpect             tkMessageBox\n",
      "__future__          cythonmagic         pickle              tkSimpleDialog\n",
      "_abcoll             datetime            pickleshare         toaiff\n",
      "_ast                dateutil            pickletools         token\n",
      "_bisect             dbhash              pimp                tokenize\n",
      "_builtinSuites      dbm                 pip                 tornado\n",
      "_codecs             decimal             pipes               trace\n",
      "_codecs_cn          decorator           pkg_resources       traceback\n",
      "_codecs_hk          difflib             pkgutil             traitlets\n",
      "_codecs_iso2022     dircache            platform            ttk\n",
      "_codecs_jp          dis                 plistlib            tty\n",
      "_codecs_kr          distutils           popen2              turtle\n",
      "_codecs_tw          dl                  poplib              types\n",
      "_collections        doctest             posix               unicodedata\n",
      "_csv                dumbdbm             posixfile           unittest\n",
      "_ctypes             dummy_thread        posixpath           urllib\n",
      "_ctypes_test        dummy_threading     pprint              urllib2\n",
      "_curses             easy_install        profile             urlparse\n",
      "_curses_panel       email               prompt_toolkit      user\n",
      "_elementtree        encodings           pstats              uu\n",
      "_functools          ensurepip           pty                 uuid\n",
      "_hashlib            enum                ptyprocess          videoreader\n",
      "_heapq              errno               pwd                 warnings\n",
      "_hotshot            exceptions          py_compile          wave\n",
      "_io                 fcntl               pyaudio             wcwidth\n",
      "_json               filecmp             pyclbr              weakref\n",
      "_locale             fileinput           pydoc               webbrowser\n",
      "_lsprof             findertools         pydoc_data          whichdb\n",
      "_multibytecodec     fnmatch             pydub               wsgiref\n",
      "_multiprocessing    formatter           pyexpat             xdrlib\n",
      "_osx_support        fpformat            pygments            xml\n",
      "_portaudio          fractions           pylab               xmllib\n",
      "_pyio               ftplib              pyparsing           xmlrpclib\n",
      "_random             functools           pyssp               xxsubtype\n",
      "_scproxy            future_builtins     pytz                zipfile\n",
      "_socket             gc                  quopri              zipimport\n",
      "_sqlite3            genericpath         radio               zlib\n",
      "_sre                gensuitemodule      radiopy             zmq\n",
      "\n",
      "Enter any module name to get more help.  Or, type \"modules spam\" to search\n",
      "for modules whose descriptions contain the word \"spam\".\n",
      "\n"
     ]
    }
   ],
   "source": [
    "help(\"modules\")"
   ]
  },
  {
   "cell_type": "code",
   "execution_count": null,
   "metadata": {
    "collapsed": true
   },
   "outputs": [],
   "source": []
  }
 ],
 "metadata": {
  "kernelspec": {
   "display_name": "Python (other-env)",
   "language": "python",
   "name": "other-env"
  },
  "language_info": {
   "codemirror_mode": {
    "name": "ipython",
    "version": 2
   },
   "file_extension": ".py",
   "mimetype": "text/x-python",
   "name": "python",
   "nbconvert_exporter": "python",
   "pygments_lexer": "ipython2",
   "version": "2.7.10"
  }
 },
 "nbformat": 4,
 "nbformat_minor": 2
}
