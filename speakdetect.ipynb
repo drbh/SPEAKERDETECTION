{
 "cells": [
  {
   "cell_type": "code",
   "execution_count": 1,
   "metadata": {
    "collapsed": false
   },
   "outputs": [
    {
     "name": "stdout",
     "output_type": "stream",
     "text": [
      "/Users/drbh/Documents/00000/PrebuildLambda/guess_speaker\n"
     ]
    }
   ],
   "source": [
    "%cd /Users/drbh/Documents/00000/PrebuildLambda/guess_speaker"
   ]
  },
  {
   "cell_type": "code",
   "execution_count": 2,
   "metadata": {
    "collapsed": false
   },
   "outputs": [
    {
     "name": "stdout",
     "output_type": "stream",
     "text": [
      "total 15928\r\n",
      "drwxr-xr-x   8 drbh  staff   272B Jan  3 15:40 \u001b[34m.\u001b[m\u001b[m\r\n",
      "drwxr-xr-x  17 drbh  staff   578B Jan  3 15:40 \u001b[34m..\u001b[m\u001b[m\r\n",
      "-rw-r--r--@  1 drbh  staff   8.0K Jan  3 15:40 .DS_Store\r\n",
      "-rw-r--r--   1 drbh  staff   1.0K Dec 29 00:31 audios.py\r\n",
      "drwxr-xr-x@ 12 drbh  staff   408B Dec 25 16:25 \u001b[34mfeature\u001b[m\u001b[m\r\n",
      "drwxr-xr-x@ 14 drbh  staff   476B Dec 26 18:27 \u001b[34mfilters\u001b[m\u001b[m\r\n",
      "drwxr-xr-x@ 27 drbh  staff   918B Dec 28 17:34 \u001b[34mgui\u001b[m\u001b[m\r\n",
      "-rw-r--r--   1 drbh  staff   7.8M Jan  2 16:51 model.out\r\n"
     ]
    }
   ],
   "source": [
    "!ls -lah"
   ]
  },
  {
   "cell_type": "code",
   "execution_count": 3,
   "metadata": {
    "collapsed": false
   },
   "outputs": [
    {
     "name": "stderr",
     "output_type": "stream",
     "text": [
      "No module named ap\n",
      "Warning: failed to import Bob, will use a slower version of MFCC instead.\n",
      "Warning: failed to import fast-gmm, use gmm from scikit-learn instead\n"
     ]
    }
   ],
   "source": [
    "from collections import defaultdict\n",
    "from scipy.io import wavfile\n",
    "import numpy as np\n",
    "import cPickle as pickle\n",
    "import traceback as tb\n",
    "import itertools\n",
    "import glob\n",
    "import time\n",
    "import os\n",
    "import sys\n",
    "import operator\n",
    "\n",
    "# add to run in ipython\n",
    "sys.path.append('./gui/')\n",
    "\n",
    "from interface import ModelInterface\n",
    "from utils import read_wav\n",
    "from filters.silence import remove_silence\n",
    "from feature import mix_feature"
   ]
  },
  {
   "cell_type": "code",
   "execution_count": 4,
   "metadata": {
    "collapsed": true
   },
   "outputs": [],
   "source": [
    "execfile(\"./audios.py\")"
   ]
  },
  {
   "cell_type": "code",
   "execution_count": 12,
   "metadata": {
    "collapsed": false
   },
   "outputs": [],
   "source": [
    "def see_model(mods):\n",
    "    for count, (key, value) in enumerate(mods.features.iteritems(), 1):\n",
    "        print count, key, len(value)\n",
    "\n",
    "def load_local_model():\n",
    "    mods = ModelInterface()\n",
    "    mods = mods.load(\"./model.out\")\n",
    "    print see_model(mods)\n",
    "    return mods"
   ]
  },
  {
   "cell_type": "code",
   "execution_count": 13,
   "metadata": {
    "collapsed": false
   },
   "outputs": [
    {
     "name": "stdout",
     "output_type": "stream",
     "text": [
      "1 Kathy 2775\n",
      "2 Luke 2775\n",
      "3 David 3515\n",
      "4 Nick 2590\n",
      "5 Joe 2405\n",
      "6 Lauren 2405\n",
      "None\n"
     ]
    }
   ],
   "source": [
    "mods = load_local_model()"
   ]
  },
  {
   "cell_type": "code",
   "execution_count": 14,
   "metadata": {
    "collapsed": false
   },
   "outputs": [
    {
     "name": "stdout",
     "output_type": "stream",
     "text": [
      "('David', -0.19238028712389044)\n"
     ]
    }
   ],
   "source": [
    "\n",
    "input_files = \"/tmp/temp.wav\"\n",
    "\n",
    "for f in glob.glob(os.path.expanduser(input_files)):\n",
    "    fs, signal = read_wav(f)\n",
    "    label = mods.predict(fs, signal)\n",
    "    print max(label, key=operator.itemgetter(1))"
   ]
  },
  {
   "cell_type": "code",
   "execution_count": 6,
   "metadata": {
    "collapsed": false
   },
   "outputs": [
    {
     "name": "stdout",
     "output_type": "stream",
     "text": [
      "Getting file: 03_my_name.wav from bucket asu.datascience\n",
      "File saved to: /tmp/temp.wav\n"
     ]
    }
   ],
   "source": [
    "import json\n",
    "import urllib\n",
    "s3 = boto3.client('s3')\n",
    "bucket = event['Records'][0]['s3']['bucket']['name']\n",
    "key = urllib.unquote_plus(event['Records'][0]['s3']['object']['key'].encode('utf8'))\n",
    "print \"Getting file:\", key, \"from bucket\", bucket\n",
    "s3.download_file(bucket, key, '/tmp/temp.wav')\n",
    "os.path.exists(\"/tmp/temp.wav\")\n",
    "print \"File saved to: /tmp/temp.wav\""
   ]
  },
  {
   "cell_type": "code",
   "execution_count": 5,
   "metadata": {
    "collapsed": true
   },
   "outputs": [],
   "source": [
    "import boto3\n",
    "event = {\n",
    "  \"Records\": [\n",
    "    {\n",
    "      \"eventVersion\": \"2.0\",\n",
    "      \"eventTime\": \"1970-01-01T00:00:00.000Z\",\n",
    "      \"requestParameters\": {\n",
    "        \"sourceIPAddress\": \"127.0.0.1\"\n",
    "      },\n",
    "      \"s3\": {\n",
    "        \"configurationId\": \"testConfigRule\",\n",
    "        \"object\": {\n",
    "          \"key\": \"03_my_name.wav\"\n",
    "        },\n",
    "        \"bucket\": {\n",
    "          \"name\": \"asu.datascience\"\n",
    "        },\n",
    "        \"s3SchemaVersion\": \"1.0\"\n",
    "      },\n",
    "      \"eventSource\": \"aws:s3\"\n",
    "    }\n",
    "  ]\n",
    "}\n"
   ]
  },
  {
   "cell_type": "code",
   "execution_count": null,
   "metadata": {
    "collapsed": true
   },
   "outputs": [],
   "source": []
  }
 ],
 "metadata": {
  "kernelspec": {
   "display_name": "Python (other-env)",
   "language": "python",
   "name": "other-env"
  },
  "language_info": {
   "codemirror_mode": {
    "name": "ipython",
    "version": 2
   },
   "file_extension": ".py",
   "mimetype": "text/x-python",
   "name": "python",
   "nbconvert_exporter": "python",
   "pygments_lexer": "ipython2",
   "version": "2.7.10"
  }
 },
 "nbformat": 4,
 "nbformat_minor": 2
}
